{
 "cells": [
  {
   "cell_type": "markdown",
   "id": "249fc914-bc45-4767-9207-3f92b2a67d97",
   "metadata": {},
   "source": [
    "# John Vincent Deniega\n",
    "# ADS 509 - Fall 2024\n",
    "# 1 October 2024"
   ]
  },
  {
   "cell_type": "markdown",
   "id": "bce2bb89",
   "metadata": {},
   "source": [
    "# ADS 509 Assignment 5.1: Topic Modeling\n",
    "\n",
    "This notebook holds Assignment 5.1 for Module 5 in ADS 509, Applied Text Mining. Work through this notebook, writing code and answering questions where required. \n",
    "\n",
    "In this assignment you will work with a categorical corpus that accompanies `nltk`. You will build the three types of topic models described in Chapter 8 of _Blueprints for Text Analytics using Python_: NMF, LSA, and LDA. You will compare these models to the true categories. \n"
   ]
  },
  {
   "cell_type": "markdown",
   "id": "d87e2c06",
   "metadata": {},
   "source": [
    "## General Assignment Instructions\n",
    "\n",
    "These instructions are included in every assignment, to remind you of the coding standards for the class. Feel free to delete this cell after reading it. \n",
    "\n",
    "One sign of mature code is conforming to a style guide. We recommend the [Google Python Style Guide](https://google.github.io/styleguide/pyguide.html). If you use a different style guide, please include a cell with a link. \n",
    "\n",
    "Your code should be relatively easy-to-read, sensibly commented, and clean. Writing code is a messy process, so please be sure to edit your final submission. Remove any cells that are not needed or parts of cells that contain unnecessary code. Remove inessential `import` statements and make sure that all such statements are moved into the designated cell. \n",
    "\n",
    "Make use of non-code cells for written commentary. These cells should be grammatical and clearly written. In some of these cells you will have questions to answer. The questions will be marked by a \"Q:\" and will have a corresponding \"A:\" spot for you. *Make sure to answer every question marked with a `Q:` for full credit.* \n"
   ]
  },
  {
   "cell_type": "code",
   "execution_count": 1,
   "id": "a85bce08",
   "metadata": {},
   "outputs": [],
   "source": [
    "# These libraries may be useful to you\n",
    "\n",
    "#!pip install pyLDAvis==3.4.1 --user  #You need to restart the Kernel after installation.\n",
    "# You also need a Python version => 3.9.0\n",
    "from nltk.corpus import brown\n",
    "\n",
    "import numpy as np\n",
    "import pandas as pd\n",
    "from tqdm.auto import tqdm\n",
    "\n",
    "import pyLDAvis\n",
    "import pyLDAvis.lda_model\n",
    "import pyLDAvis.gensim_models\n",
    "\n",
    "import spacy\n",
    "from sklearn.feature_extraction.text import TfidfVectorizer, CountVectorizer\n",
    "from sklearn.decomposition import NMF, TruncatedSVD, LatentDirichletAllocation\n",
    "\n",
    "from spacy.lang.en.stop_words import STOP_WORDS as stopwords\n",
    "\n",
    "from collections import Counter, defaultdict\n",
    "\n",
    "nlp = spacy.load('en_core_web_sm')"
   ]
  },
  {
   "cell_type": "code",
   "execution_count": 2,
   "id": "a218df60",
   "metadata": {},
   "outputs": [],
   "source": [
    "# add any additional libaries you need here\n",
    "import nltk\n",
    "import warnings"
   ]
  },
  {
   "cell_type": "code",
   "execution_count": 3,
   "id": "494de237",
   "metadata": {},
   "outputs": [],
   "source": [
    "# This function comes from the BTAP repo.\n",
    "\n",
    "def display_topics(model, features, no_top_words=5):\n",
    "    for topic, words in enumerate(model.components_):\n",
    "        total = words.sum()\n",
    "        largest = words.argsort()[::-1] # invert sort order\n",
    "        print(\"\\nTopic %02d\" % topic)\n",
    "        for i in range(0, no_top_words):\n",
    "            print(\"  %s (%2.2f)\" % (features[largest[i]], abs(words[largest[i]]*100.0/total)))"
   ]
  },
  {
   "cell_type": "markdown",
   "id": "a30a901c",
   "metadata": {},
   "source": [
    "## Getting to Know the Brown Corpus\n",
    "\n",
    "Let's spend a bit of time getting to know what's in the Brown corpus, our NLTK example of an \"overlapping\" corpus."
   ]
  },
  {
   "cell_type": "code",
   "execution_count": 4,
   "id": "457c59ed",
   "metadata": {},
   "outputs": [
    {
     "name": "stdout",
     "output_type": "stream",
     "text": [
      "For adventure we have 29 articles.\n",
      "For belles_lettres we have 75 articles.\n",
      "For editorial we have 27 articles.\n",
      "For fiction we have 29 articles.\n",
      "For government we have 30 articles.\n",
      "For hobbies we have 36 articles.\n",
      "For humor we have 9 articles.\n",
      "For learned we have 80 articles.\n",
      "For lore we have 48 articles.\n",
      "For mystery we have 24 articles.\n",
      "For news we have 44 articles.\n",
      "For religion we have 17 articles.\n",
      "For reviews we have 17 articles.\n",
      "For romance we have 29 articles.\n",
      "For science_fiction we have 6 articles.\n"
     ]
    }
   ],
   "source": [
    "# categories of articles in Brown corpus\n",
    "#nltk.download('brown')\n",
    "for category in brown.categories() :\n",
    "    print(f\"For {category} we have {len(brown.fileids(categories=category))} articles.\")"
   ]
  },
  {
   "cell_type": "markdown",
   "id": "23fb133c",
   "metadata": {},
   "source": [
    "Let's create a dataframe of the articles in of hobbies, editorial, government, news, and romance."
   ]
  },
  {
   "cell_type": "code",
   "execution_count": 5,
   "id": "18f50b9d",
   "metadata": {},
   "outputs": [
    {
     "data": {
      "text/plain": [
       "(166, 3)"
      ]
     },
     "execution_count": 5,
     "metadata": {},
     "output_type": "execute_result"
    }
   ],
   "source": [
    "categories = ['editorial','government','news','romance','hobbies'] \n",
    "\n",
    "category_list = []\n",
    "file_ids = []\n",
    "texts = []\n",
    "\n",
    "for category in categories : \n",
    "    for file_id in brown.fileids(categories=category) :\n",
    "        \n",
    "        # build some lists for a dataframe\n",
    "        category_list.append(category)\n",
    "        file_ids.append(file_id)\n",
    "        \n",
    "        text = brown.words(fileids=file_id)\n",
    "        texts.append(\" \".join(text))\n",
    "\n",
    "        \n",
    "        \n",
    "df = pd.DataFrame()\n",
    "df['category'] = category_list\n",
    "df['id'] = file_ids\n",
    "df['text'] = texts\n",
    "\n",
    "df.shape"
   ]
  },
  {
   "cell_type": "markdown",
   "id": "4b1a74e6-6861-4718-a410-9cfbe5bc65d1",
   "metadata": {},
   "source": [
    "### Investigate the dataframe for format and structure"
   ]
  },
  {
   "cell_type": "code",
   "execution_count": 6,
   "id": "70d4c7ee-79ce-437e-be43-4e57b2384697",
   "metadata": {},
   "outputs": [
    {
     "data": {
      "text/html": [
       "<div>\n",
       "<style scoped>\n",
       "    .dataframe tbody tr th:only-of-type {\n",
       "        vertical-align: middle;\n",
       "    }\n",
       "\n",
       "    .dataframe tbody tr th {\n",
       "        vertical-align: top;\n",
       "    }\n",
       "\n",
       "    .dataframe thead th {\n",
       "        text-align: right;\n",
       "    }\n",
       "</style>\n",
       "<table border=\"1\" class=\"dataframe\">\n",
       "  <thead>\n",
       "    <tr style=\"text-align: right;\">\n",
       "      <th></th>\n",
       "      <th>category</th>\n",
       "      <th>id</th>\n",
       "      <th>text</th>\n",
       "    </tr>\n",
       "  </thead>\n",
       "  <tbody>\n",
       "    <tr>\n",
       "      <th>0</th>\n",
       "      <td>editorial</td>\n",
       "      <td>cb01</td>\n",
       "      <td>Assembly session brought much good The General...</td>\n",
       "    </tr>\n",
       "    <tr>\n",
       "      <th>1</th>\n",
       "      <td>editorial</td>\n",
       "      <td>cb02</td>\n",
       "      <td>Must Berlin remain divided ? ? The inference h...</td>\n",
       "    </tr>\n",
       "    <tr>\n",
       "      <th>2</th>\n",
       "      <td>editorial</td>\n",
       "      <td>cb03</td>\n",
       "      <td>A good man departs . Goodby , Mr. Sam . Sam Ra...</td>\n",
       "    </tr>\n",
       "    <tr>\n",
       "      <th>3</th>\n",
       "      <td>editorial</td>\n",
       "      <td>cb04</td>\n",
       "      <td>A shock wave from Africa Word of Dag Hammarskj...</td>\n",
       "    </tr>\n",
       "    <tr>\n",
       "      <th>4</th>\n",
       "      <td>editorial</td>\n",
       "      <td>cb05</td>\n",
       "      <td>Help when needed If the Dominican Republic ach...</td>\n",
       "    </tr>\n",
       "  </tbody>\n",
       "</table>\n",
       "</div>"
      ],
      "text/plain": [
       "    category    id                                               text\n",
       "0  editorial  cb01  Assembly session brought much good The General...\n",
       "1  editorial  cb02  Must Berlin remain divided ? ? The inference h...\n",
       "2  editorial  cb03  A good man departs . Goodby , Mr. Sam . Sam Ra...\n",
       "3  editorial  cb04  A shock wave from Africa Word of Dag Hammarskj...\n",
       "4  editorial  cb05  Help when needed If the Dominican Republic ach..."
      ]
     },
     "execution_count": 6,
     "metadata": {},
     "output_type": "execute_result"
    }
   ],
   "source": [
    "df.head()"
   ]
  },
  {
   "cell_type": "code",
   "execution_count": 7,
   "id": "586f47de",
   "metadata": {},
   "outputs": [],
   "source": [
    "# Let's add some helpful columns on the df\n",
    "df['char_len'] = df['text'].apply(len)\n",
    "df['word_len'] = df['text'].apply(lambda x: len(x.split()))\n"
   ]
  },
  {
   "cell_type": "code",
   "execution_count": 8,
   "id": "2128fd2d",
   "metadata": {},
   "outputs": [
    {
     "name": "stderr",
     "output_type": "stream",
     "text": [
      "/Users/johnvincent/anaconda3/lib/python3.11/site-packages/IPython/core/pylabtools.py:77: DeprecationWarning: backends is deprecated since IPython 8.24, backends are managed in matplotlib and can be externally registered.\n",
      "  warnings.warn(\n",
      "/Users/johnvincent/anaconda3/lib/python3.11/site-packages/IPython/core/pylabtools.py:77: DeprecationWarning: backend2gui is deprecated since IPython 8.24, backends are managed in matplotlib and can be externally registered.\n",
      "  warnings.warn(\n"
     ]
    },
    {
     "data": {
      "text/plain": [
       "<Axes: xlabel='category'>"
      ]
     },
     "execution_count": 8,
     "metadata": {},
     "output_type": "execute_result"
    },
    {
     "data": {
      "image/png": "[encoded data removed]",
      "text/plain": [
       "<Figure size 1000x600 with 1 Axes>"
      ]
     },
     "metadata": {},
     "output_type": "display_data"
    }
   ],
   "source": [
    "%matplotlib inline\n",
    "warnings.filterwarnings('ignore', category=DeprecationWarning) # For notebook clarity\n",
    "df.groupby('category').agg({'word_len': 'mean'}).plot.bar(figsize=(10,6))"
   ]
  },
  {
   "cell_type": "markdown",
   "id": "554ffeb5",
   "metadata": {},
   "source": [
    "Now do our TF-IDF and Count vectorizations."
   ]
  },
  {
   "cell_type": "code",
   "execution_count": 9,
   "id": "21a7d247",
   "metadata": {},
   "outputs": [
    {
     "name": "stderr",
     "output_type": "stream",
     "text": [
      "/Users/johnvincent/anaconda3/lib/python3.11/site-packages/sklearn/feature_extraction/text.py:408: UserWarning: Your stop_words may be inconsistent with your preprocessing. Tokenizing the stop words generated tokens ['ll', 've'] not in stop_words.\n",
      "  warnings.warn(\n"
     ]
    },
    {
     "data": {
      "text/plain": [
       "(166, 4941)"
      ]
     },
     "execution_count": 9,
     "metadata": {},
     "output_type": "execute_result"
    }
   ],
   "source": [
    "count_text_vectorizer = CountVectorizer(stop_words=list(stopwords), min_df=5, max_df=0.7)\n",
    "count_text_vectors = count_text_vectorizer.fit_transform(df[\"text\"])\n",
    "count_text_vectors.shape"
   ]
  },
  {
   "cell_type": "code",
   "execution_count": 10,
   "id": "875deba9",
   "metadata": {},
   "outputs": [
    {
     "data": {
      "text/plain": [
       "(166, 4941)"
      ]
     },
     "execution_count": 10,
     "metadata": {},
     "output_type": "execute_result"
    }
   ],
   "source": [
    "tfidf_text_vectorizer = TfidfVectorizer(stop_words=list(stopwords), min_df=5, max_df=0.7)\n",
    "tfidf_text_vectors = tfidf_text_vectorizer.fit_transform(df['text'])\n",
    "tfidf_text_vectors.shape"
   ]
  },
  {
   "cell_type": "markdown",
   "id": "56cac8be-0e22-4efe-8739-938e1b719883",
   "metadata": {},
   "source": [
    "### Reference: \n",
    "\n",
    "SciKit-Learn. (n.d.). CountVectorizer. https://scikit-learn.org/stable/modules/generated/sklearn.feature_extraction.text.CountVectorizer.html\n",
    "\n",
    "SciKit-Learn. (n.d.). TfidfVectorizer. https://scikit-learn.org/stable/modules/generated/sklearn.feature_extraction.text.TfidfVectorizer.html"
   ]
  },
  {
   "cell_type": "markdown",
   "id": "a1062b21",
   "metadata": {},
   "source": [
    "Q: What do the two data frames `count_text_vectors` and `tfidf_text_vectors` hold? \n",
    "\n",
    "A: The data frame 'count_text_vectors' contains the output of the CountVectorizer in the form of a matrix where each row corresponds to a given document's data in df['text'] and each column corresponds to a unique word set contained within the corpus. The values mapped to each row and column would then be populated with a count of how many times that particular token appears.\n",
    "\n",
    "The data fram 'tfidf_text_vectors' contains the output of the TfidfVectorizer in the form of a matrix where each row corresponds to a document and each column correponds to a word, similar to the count_text_vectors matrix. The value that is mapped to each row and column is the calculated TF-IDF score for that particular word instead of the simple count provided from the previous matrix."
   ]
  },
  {
   "cell_type": "markdown",
   "id": "f77c3f94",
   "metadata": {},
   "source": [
    "## Fitting a Non-Negative Matrix Factorization Model\n",
    "\n",
    "In this section the code to fit a five-topic NMF model has already been written. This code comes directly from the [BTAP repo](https://github.com/blueprints-for-text-analytics-python/blueprints-text), which will help you tremendously in the coming sections. "
   ]
  },
  {
   "cell_type": "markdown",
   "id": "823884fd-a521-428f-bfca-7ba26fcd9264",
   "metadata": {},
   "source": [
    "### Reference\n",
    "\n",
    "SciKit-Learn. (n.d.). NMF. https://scikit-learn.org/stable/modules/generated/sklearn.decomposition.NMF.html"
   ]
  },
  {
   "cell_type": "code",
   "execution_count": 11,
   "id": "d28745a3",
   "metadata": {},
   "outputs": [],
   "source": [
    "nmf_text_model = NMF(n_components=5, random_state=314)\n",
    "W_text_matrix = nmf_text_model.fit_transform(tfidf_text_vectors)\n",
    "H_text_matrix = nmf_text_model.components_"
   ]
  },
  {
   "cell_type": "code",
   "execution_count": 12,
   "id": "a67185e7",
   "metadata": {},
   "outputs": [
    {
     "name": "stdout",
     "output_type": "stream",
     "text": [
      "\n",
      "Topic 00\n",
      "  mr (0.51)\n",
      "  president (0.45)\n",
      "  kennedy (0.43)\n",
      "  united (0.42)\n",
      "  khrushchev (0.40)\n",
      "\n",
      "Topic 01\n",
      "  said (0.88)\n",
      "  didn (0.46)\n",
      "  ll (0.45)\n",
      "  thought (0.42)\n",
      "  man (0.37)\n",
      "\n",
      "Topic 02\n",
      "  state (0.39)\n",
      "  development (0.36)\n",
      "  tax (0.33)\n",
      "  sales (0.30)\n",
      "  program (0.25)\n",
      "\n",
      "Topic 03\n",
      "  mrs (2.61)\n",
      "  mr (0.78)\n",
      "  said (0.63)\n",
      "  miss (0.52)\n",
      "  car (0.51)\n",
      "\n",
      "Topic 04\n",
      "  game (1.02)\n",
      "  league (0.74)\n",
      "  ball (0.72)\n",
      "  baseball (0.71)\n",
      "  team (0.66)\n"
     ]
    }
   ],
   "source": [
    "display_topics(nmf_text_model, tfidf_text_vectorizer.get_feature_names_out())"
   ]
  },
  {
   "cell_type": "markdown",
   "id": "fee51e9b",
   "metadata": {},
   "source": [
    "Now some work for you to do. Compare the NMF factorization to the original categories from the Brown Corpus.\n",
    "\n",
    "We are interested in the extent to which our NMF factorization agrees or disagrees with the original categories in the corpus. For each topic in your NMF model, tally the Brown categories and interpret the results. \n"
   ]
  },
  {
   "cell_type": "markdown",
   "id": "b66be5f4-9979-4cda-a393-a4bf3de6e33b",
   "metadata": {},
   "source": [
    "### Percentage of each topic comprising corpus"
   ]
  },
  {
   "cell_type": "code",
   "execution_count": 13,
   "id": "7c8c8eb0",
   "metadata": {},
   "outputs": [
    {
     "data": {
      "text/plain": [
       "array([18.20216354, 25.88744413, 29.5696224 , 14.29955027, 12.04121966])"
      ]
     },
     "execution_count": 13,
     "metadata": {},
     "output_type": "execute_result"
    }
   ],
   "source": [
    "# Your code here\n",
    "W_text_matrix.sum(axis=0)/W_text_matrix.sum()*100.0 # From BTAP Ch. 8 Notebook"
   ]
  },
  {
   "cell_type": "markdown",
   "id": "65c5d599-7a8d-48b7-be00-aa72c7338cf0",
   "metadata": {},
   "source": [
    "### Reference\n",
    "Pandas. (n.d.). pandas.crosstab. Pydata. https://pandas.pydata.org/pandas-docs/stable/reference/api/pandas.crosstab.html"
   ]
  },
  {
   "cell_type": "markdown",
   "id": "5d59bb0a-8480-4363-8036-b797892ae286",
   "metadata": {},
   "source": [
    "### Output Tallies on NMF"
   ]
  },
  {
   "cell_type": "code",
   "execution_count": 14,
   "id": "4092f1fa-73c1-407a-9945-1a3af6a92015",
   "metadata": {},
   "outputs": [
    {
     "data": {
      "text/html": [
       "<div>\n",
       "<style scoped>\n",
       "    .dataframe tbody tr th:only-of-type {\n",
       "        vertical-align: middle;\n",
       "    }\n",
       "\n",
       "    .dataframe tbody tr th {\n",
       "        vertical-align: top;\n",
       "    }\n",
       "\n",
       "    .dataframe thead th {\n",
       "        text-align: right;\n",
       "    }\n",
       "</style>\n",
       "<table border=\"1\" class=\"dataframe\">\n",
       "  <thead>\n",
       "    <tr style=\"text-align: right;\">\n",
       "      <th>category</th>\n",
       "      <th>editorial</th>\n",
       "      <th>government</th>\n",
       "      <th>hobbies</th>\n",
       "      <th>news</th>\n",
       "      <th>romance</th>\n",
       "    </tr>\n",
       "    <tr>\n",
       "      <th>predicted_topic</th>\n",
       "      <th></th>\n",
       "      <th></th>\n",
       "      <th></th>\n",
       "      <th></th>\n",
       "      <th></th>\n",
       "    </tr>\n",
       "  </thead>\n",
       "  <tbody>\n",
       "    <tr>\n",
       "      <th>0</th>\n",
       "      <td>20</td>\n",
       "      <td>4</td>\n",
       "      <td>0</td>\n",
       "      <td>8</td>\n",
       "      <td>0</td>\n",
       "    </tr>\n",
       "    <tr>\n",
       "      <th>1</th>\n",
       "      <td>4</td>\n",
       "      <td>0</td>\n",
       "      <td>8</td>\n",
       "      <td>0</td>\n",
       "      <td>29</td>\n",
       "    </tr>\n",
       "    <tr>\n",
       "      <th>2</th>\n",
       "      <td>2</td>\n",
       "      <td>26</td>\n",
       "      <td>26</td>\n",
       "      <td>11</td>\n",
       "      <td>0</td>\n",
       "    </tr>\n",
       "    <tr>\n",
       "      <th>3</th>\n",
       "      <td>0</td>\n",
       "      <td>0</td>\n",
       "      <td>1</td>\n",
       "      <td>17</td>\n",
       "      <td>0</td>\n",
       "    </tr>\n",
       "    <tr>\n",
       "      <th>4</th>\n",
       "      <td>1</td>\n",
       "      <td>0</td>\n",
       "      <td>1</td>\n",
       "      <td>8</td>\n",
       "      <td>0</td>\n",
       "    </tr>\n",
       "  </tbody>\n",
       "</table>\n",
       "</div>"
      ],
      "text/plain": [
       "category         editorial  government  hobbies  news  romance\n",
       "predicted_topic                                               \n",
       "0                       20           4        0     8        0\n",
       "1                        4           0        8     0       29\n",
       "2                        2          26       26    11        0\n",
       "3                        0           0        1    17        0\n",
       "4                        1           0        1     8        0"
      ]
     },
     "execution_count": 14,
     "metadata": {},
     "output_type": "execute_result"
    }
   ],
   "source": [
    "df['predicted_topic'] = np.argmax(W_text_matrix, axis=1)\n",
    "topic_cat_tally = pd.crosstab(df['predicted_topic'], df['category'])\n",
    "topic_cat_tally"
   ]
  },
  {
   "cell_type": "markdown",
   "id": "f8d4e2bc",
   "metadata": {},
   "source": [
    "Q: How does your five-topic NMF model compare to the original Brown categories? \n",
    "\n",
    "A: There appears to be a moderately strong association between topic 0 and the editorial category at 20 out of 32. Topic 1 is strongly associated with the romance category at 29 out of 41. Topic 2 is ambiguous with 26 documents being assigned to government and hobbies each with other following categories. Topic 3 is very strongly associated with news at 17 of 18 documents predicted. Finally, topic 4 is strongly associated with news, however the document size is relatively small at 10 total documents, so associations for this topic would require a greater error or misclassification tolerance."
   ]
  },
  {
   "cell_type": "markdown",
   "id": "82e37cb5",
   "metadata": {},
   "source": [
    "## Fitting an LSA Model\n",
    "\n",
    "In this section, follow the example from the repository and fit an LSA model (called a \"TruncatedSVD\" in `sklearn`). Again fit a five-topic model and compare it to the actual categories in the Brown corpus. Use the TF-IDF vectors for your fit, as above. \n",
    "\n",
    "To be explicit, we are once again interested in the extent to which this LSA factorization agrees or disagrees with the original categories in the corpus. For each topic in your model, tally the Brown categories and interpret the results. \n"
   ]
  },
  {
   "cell_type": "markdown",
   "id": "f9f7b5ce-de83-49ce-a3a6-27d49f4ac53e",
   "metadata": {},
   "source": [
    "### Reference\n",
    "\n",
    "Albrecht, J., Ramachandran, S., & Winkler, C. (n.d.). Chapter 8: Unsupervised methods: Topic modeling and clustering. Github. https://github.com/blueprints-for-text-analytics-python/blueprints-text/blob/master/ch08/Topic_Modeling_Clustering.ipynb"
   ]
  },
  {
   "cell_type": "code",
   "execution_count": 15,
   "id": "00b53d3d",
   "metadata": {},
   "outputs": [],
   "source": [
    "# Your code here\n",
    "# This code references from the example in Albrecht et al. (n.d.) Chapter 8 Notebook\n",
    "svd_text_model = TruncatedSVD(n_components = 5, random_state=314)\n",
    "W_svd_text_matrix = svd_text_model.fit_transform(tfidf_text_vectors)\n",
    "H_svd_text_matrix = svd_text_model.components_"
   ]
  },
  {
   "cell_type": "code",
   "execution_count": 16,
   "id": "c03f9931-80e8-4cc5-b940-eb9fcd49a3ef",
   "metadata": {},
   "outputs": [
    {
     "name": "stdout",
     "output_type": "stream",
     "text": [
      "\n",
      "Topic 00\n",
      "  said (0.44)\n",
      "  mr (0.25)\n",
      "  mrs (0.22)\n",
      "  state (0.20)\n",
      "  man (0.17)\n",
      "\n",
      "Topic 01\n",
      "  said (3.89)\n",
      "  ll (2.73)\n",
      "  didn (2.63)\n",
      "  thought (2.20)\n",
      "  got (1.97)\n",
      "\n",
      "Topic 02\n",
      "  mrs (3.12)\n",
      "  mr (1.70)\n",
      "  said (1.06)\n",
      "  kennedy (0.82)\n",
      "  khrushchev (0.77)\n",
      "\n",
      "Topic 03\n",
      "  mrs (29.45)\n",
      "  club (6.53)\n",
      "  game (6.12)\n",
      "  jr (5.60)\n",
      "  university (5.20)\n",
      "\n",
      "Topic 04\n",
      "  game (4.54)\n",
      "  league (3.27)\n",
      "  baseball (3.22)\n",
      "  ball (3.10)\n",
      "  team (2.94)\n"
     ]
    }
   ],
   "source": [
    "display_topics(svd_text_model, tfidf_text_vectorizer.get_feature_names_out())"
   ]
  },
  {
   "cell_type": "code",
   "execution_count": 17,
   "id": "2b421760-135c-4af2-af1a-04027314e8f2",
   "metadata": {},
   "outputs": [
    {
     "data": {
      "text/plain": [
       "array([3.70145447, 2.25514739, 1.69705678, 1.66202287, 1.56023004])"
      ]
     },
     "execution_count": 17,
     "metadata": {},
     "output_type": "execute_result"
    }
   ],
   "source": [
    "svd_text_model.singular_values_ # Third step from Albrecht et al."
   ]
  },
  {
   "cell_type": "markdown",
   "id": "ff37b558-a571-4fbd-9646-21a3b9fdc55a",
   "metadata": {},
   "source": [
    "### Output Tallies on TruncatedSVD"
   ]
  },
  {
   "cell_type": "code",
   "execution_count": 18,
   "id": "4383572d-8e45-4a83-bda2-4e9c6d0c24ce",
   "metadata": {},
   "outputs": [
    {
     "data": {
      "text/html": [
       "<div>\n",
       "<style scoped>\n",
       "    .dataframe tbody tr th:only-of-type {\n",
       "        vertical-align: middle;\n",
       "    }\n",
       "\n",
       "    .dataframe tbody tr th {\n",
       "        vertical-align: top;\n",
       "    }\n",
       "\n",
       "    .dataframe thead th {\n",
       "        text-align: right;\n",
       "    }\n",
       "</style>\n",
       "<table border=\"1\" class=\"dataframe\">\n",
       "  <thead>\n",
       "    <tr style=\"text-align: right;\">\n",
       "      <th>category</th>\n",
       "      <th>editorial</th>\n",
       "      <th>government</th>\n",
       "      <th>hobbies</th>\n",
       "      <th>news</th>\n",
       "      <th>romance</th>\n",
       "    </tr>\n",
       "    <tr>\n",
       "      <th>predicted_topic_svd</th>\n",
       "      <th></th>\n",
       "      <th></th>\n",
       "      <th></th>\n",
       "      <th></th>\n",
       "      <th></th>\n",
       "    </tr>\n",
       "  </thead>\n",
       "  <tbody>\n",
       "    <tr>\n",
       "      <th>0</th>\n",
       "      <td>27</td>\n",
       "      <td>30</td>\n",
       "      <td>36</td>\n",
       "      <td>34</td>\n",
       "      <td>21</td>\n",
       "    </tr>\n",
       "    <tr>\n",
       "      <th>1</th>\n",
       "      <td>0</td>\n",
       "      <td>0</td>\n",
       "      <td>0</td>\n",
       "      <td>0</td>\n",
       "      <td>8</td>\n",
       "    </tr>\n",
       "    <tr>\n",
       "      <th>3</th>\n",
       "      <td>0</td>\n",
       "      <td>0</td>\n",
       "      <td>0</td>\n",
       "      <td>3</td>\n",
       "      <td>0</td>\n",
       "    </tr>\n",
       "    <tr>\n",
       "      <th>4</th>\n",
       "      <td>0</td>\n",
       "      <td>0</td>\n",
       "      <td>0</td>\n",
       "      <td>7</td>\n",
       "      <td>0</td>\n",
       "    </tr>\n",
       "  </tbody>\n",
       "</table>\n",
       "</div>"
      ],
      "text/plain": [
       "category             editorial  government  hobbies  news  romance\n",
       "predicted_topic_svd                                               \n",
       "0                           27          30       36    34       21\n",
       "1                            0           0        0     0        8\n",
       "3                            0           0        0     3        0\n",
       "4                            0           0        0     7        0"
      ]
     },
     "execution_count": 18,
     "metadata": {},
     "output_type": "execute_result"
    }
   ],
   "source": [
    "df['predicted_topic_svd'] = np.argmax(W_svd_text_matrix, axis=1)\n",
    "svd_topic_cat_tally = pd.crosstab(df['predicted_topic_svd'], df['category'])\n",
    "svd_topic_cat_tally"
   ]
  },
  {
   "cell_type": "markdown",
   "id": "4d94d56f",
   "metadata": {},
   "source": [
    "Q: How does your five-topic LSA model compare to the original Brown categories? \n",
    "\n",
    "A: It appears that the TruncatedSVD only recognizes four categories from the corpus, with no documents being assigned to Topic 2. This can be due to the model associating documents more to Topics 0, 1, 3, and 4 than to Topic 2. With that said, Topic 0 appears to be the most ambiguous or overly broad to be useful in categorizing documents. Topic 1 is only associated with the romance category, meaning that tokens from Topic 1 appear to be highly indicative of romance relative to the other categories. The same can be said for Topic 3, however because there are only 3 documents, this a higher error tolerance is required to assert this association. Finally, topic 4 appears to have the most association with news. Further, topics 1, 3, and 4 with their singular categorization with the truncated SVD model suggest that for these topics there may be a high degree of specificity."
   ]
  },
  {
   "cell_type": "code",
   "execution_count": 19,
   "id": "377a886e",
   "metadata": {},
   "outputs": [
    {
     "name": "stdout",
     "output_type": "stream",
     "text": [
      "\n",
      "Topic 00\n",
      "  said (0.44)\n",
      "  mr (0.25)\n",
      "  mrs (0.22)\n",
      "  state (0.20)\n",
      "  man (0.17)\n",
      "\n",
      "Topic 01\n",
      "  said (3.89)\n",
      "  ll (2.73)\n",
      "  didn (2.63)\n",
      "  thought (2.20)\n",
      "  got (1.97)\n",
      "\n",
      "Topic 02\n",
      "  mrs (3.12)\n",
      "  mr (1.70)\n",
      "  said (1.06)\n",
      "  kennedy (0.82)\n",
      "  khrushchev (0.77)\n",
      "\n",
      "Topic 03\n",
      "  mrs (29.45)\n",
      "  club (6.53)\n",
      "  game (6.12)\n",
      "  jr (5.60)\n",
      "  university (5.20)\n",
      "\n",
      "Topic 04\n",
      "  game (4.54)\n",
      "  league (3.27)\n",
      "  baseball (3.22)\n",
      "  ball (3.10)\n",
      "  team (2.94)\n"
     ]
    }
   ],
   "source": [
    "# call display_topics on your model\n",
    "display_topics(svd_text_model, tfidf_text_vectorizer.get_feature_names_out())"
   ]
  },
  {
   "cell_type": "markdown",
   "id": "ea8b280a",
   "metadata": {},
   "source": [
    "Q: What is your interpretation of the display topics output? \n",
    "\n",
    "A: Topic 0 appears to be formal topics or address given the use of 'mr', 'mrs', and 'state' listed as important features for this topic. This can be associated to Brown's \"news\" or \"government\" categories. Topic 1 appears to be informal conversation with contractions and words such as 'll', 'didn', and 'got'. This may be associated to \"romance\" or \"hobbies\" categories. Topic 2 looks to be political or historical in context given the words 'kennedy' and 'khruschev', so \"government\" seems to be an appropriate association. Topic 3 has the words 'club', 'game', and 'university' suggesting college sports as a topic, or even more broadly sports. All of Topic 4's top words appears to be specifically baseball related, which make cause some overlap. This does make sense, however that these two topics predominantly fall under the 'news' category in the original lists."
   ]
  },
  {
   "cell_type": "markdown",
   "id": "b4ab4d29",
   "metadata": {},
   "source": [
    "## Fitting an LDA Model\n",
    "\n",
    "Finally, fit a five-topic LDA model using the count vectors (`count_text_vectors` from above). Display the results using `pyLDAvis.display` and describe what you learn from that visualization. "
   ]
  },
  {
   "cell_type": "markdown",
   "id": "752e45bb-323a-4a3b-a163-baaed2eb92c7",
   "metadata": {},
   "source": [
    "### Reference\n",
    "\n",
    "Albrecht, J., Ramachandran, S., & Winkler, C. (n.d.). Chapter 8: Unsupervised methods: Topic modeling and clustering. Github. https://github.com/blueprints-for-text-analytics-python/blueprints-text/blob/master/ch08/Topic_Modeling_Clustering.ipynb"
   ]
  },
  {
   "cell_type": "code",
   "execution_count": 20,
   "id": "802cb8ff",
   "metadata": {},
   "outputs": [],
   "source": [
    "# Fit your LDA model here\n",
    "# This code references from the example in Albrecht et al. (n.d.) Chapter 8 Notebook\n",
    "lda_text_model = LatentDirichletAllocation(n_components = 5, random_state=314)\n",
    "W_lda_text_matrix = lda_text_model.fit_transform(count_text_vectors)\n",
    "H_lda_text_matrix = lda_text_model.components_"
   ]
  },
  {
   "cell_type": "code",
   "execution_count": 21,
   "id": "ab18adf5",
   "metadata": {},
   "outputs": [
    {
     "name": "stdout",
     "output_type": "stream",
     "text": [
      "\n",
      "Topic 00\n",
      "  said (1.05)\n",
      "  mrs (0.82)\n",
      "  little (0.56)\n",
      "  good (0.51)\n",
      "  way (0.50)\n",
      "\n",
      "Topic 01\n",
      "  state (0.67)\n",
      "  development (0.63)\n",
      "  000 (0.57)\n",
      "  program (0.48)\n",
      "  business (0.44)\n",
      "\n",
      "Topic 02\n",
      "  said (1.18)\n",
      "  mr (0.72)\n",
      "  president (0.51)\n",
      "  city (0.43)\n",
      "  state (0.37)\n",
      "\n",
      "Topic 03\n",
      "  feed (0.55)\n",
      "  college (0.54)\n",
      "  general (0.44)\n",
      "  university (0.43)\n",
      "  work (0.37)\n",
      "\n",
      "Topic 04\n",
      "  states (1.14)\n",
      "  state (1.02)\n",
      "  united (0.84)\n",
      "  shall (0.66)\n",
      "  government (0.61)\n"
     ]
    }
   ],
   "source": [
    "# Call `display_topics` on your fitted model here\n",
    "display_topics(lda_text_model, count_text_vectorizer.get_feature_names_out())"
   ]
  },
  {
   "cell_type": "markdown",
   "id": "1328ee4a-8c91-4c8e-91b3-95a99072436e",
   "metadata": {},
   "source": [
    "Q: What inference do you draw from the displayed topics for your LDA model? \n",
    "\n",
    "A: Topic 0 appears to be particularly ambiguous with common words of no apparent commonality. The words in Topic 1 appear to be more government related. Topic 2 appears to be government or news related with \"president\", \"city\", and \"state\". Topic 3 appear to be news related, though the words are also somewhat general to apply to a variety of categories. Finally, Topic 4 appears to be strongly government-related, which is in line with the Brown category."
   ]
  },
  {
   "cell_type": "markdown",
   "id": "040cd2c7-5f79-40e5-b2bd-1848069e2593",
   "metadata": {},
   "source": [
    "### Output Tallies for LDA"
   ]
  },
  {
   "cell_type": "code",
   "execution_count": 22,
   "id": "9f7be3a5-c8ec-4d0b-a841-50786c3e73c5",
   "metadata": {},
   "outputs": [
    {
     "data": {
      "text/html": [
       "<div>\n",
       "<style scoped>\n",
       "    .dataframe tbody tr th:only-of-type {\n",
       "        vertical-align: middle;\n",
       "    }\n",
       "\n",
       "    .dataframe tbody tr th {\n",
       "        vertical-align: top;\n",
       "    }\n",
       "\n",
       "    .dataframe thead th {\n",
       "        text-align: right;\n",
       "    }\n",
       "</style>\n",
       "<table border=\"1\" class=\"dataframe\">\n",
       "  <thead>\n",
       "    <tr style=\"text-align: right;\">\n",
       "      <th>category</th>\n",
       "      <th>editorial</th>\n",
       "      <th>government</th>\n",
       "      <th>hobbies</th>\n",
       "      <th>news</th>\n",
       "      <th>romance</th>\n",
       "    </tr>\n",
       "    <tr>\n",
       "      <th>predicted_topic_lda</th>\n",
       "      <th></th>\n",
       "      <th></th>\n",
       "      <th></th>\n",
       "      <th></th>\n",
       "      <th></th>\n",
       "    </tr>\n",
       "  </thead>\n",
       "  <tbody>\n",
       "    <tr>\n",
       "      <th>0</th>\n",
       "      <td>3</td>\n",
       "      <td>1</td>\n",
       "      <td>11</td>\n",
       "      <td>4</td>\n",
       "      <td>28</td>\n",
       "    </tr>\n",
       "    <tr>\n",
       "      <th>1</th>\n",
       "      <td>1</td>\n",
       "      <td>12</td>\n",
       "      <td>9</td>\n",
       "      <td>3</td>\n",
       "      <td>0</td>\n",
       "    </tr>\n",
       "    <tr>\n",
       "      <th>2</th>\n",
       "      <td>21</td>\n",
       "      <td>3</td>\n",
       "      <td>2</td>\n",
       "      <td>32</td>\n",
       "      <td>1</td>\n",
       "    </tr>\n",
       "    <tr>\n",
       "      <th>3</th>\n",
       "      <td>2</td>\n",
       "      <td>4</td>\n",
       "      <td>8</td>\n",
       "      <td>3</td>\n",
       "      <td>0</td>\n",
       "    </tr>\n",
       "    <tr>\n",
       "      <th>4</th>\n",
       "      <td>0</td>\n",
       "      <td>10</td>\n",
       "      <td>6</td>\n",
       "      <td>2</td>\n",
       "      <td>0</td>\n",
       "    </tr>\n",
       "  </tbody>\n",
       "</table>\n",
       "</div>"
      ],
      "text/plain": [
       "category             editorial  government  hobbies  news  romance\n",
       "predicted_topic_lda                                               \n",
       "0                            3           1       11     4       28\n",
       "1                            1          12        9     3        0\n",
       "2                           21           3        2    32        1\n",
       "3                            2           4        8     3        0\n",
       "4                            0          10        6     2        0"
      ]
     },
     "execution_count": 22,
     "metadata": {},
     "output_type": "execute_result"
    }
   ],
   "source": [
    "df['predicted_topic_lda'] = np.argmax(W_lda_text_matrix, axis=1)\n",
    "lda_topic_cat_tally = pd.crosstab(df['predicted_topic_lda'], df['category'])\n",
    "lda_topic_cat_tally"
   ]
  },
  {
   "cell_type": "markdown",
   "id": "f2c67876",
   "metadata": {},
   "source": [
    "Q: Repeat the tallying of Brown categories within your topics. How does your five-topic LDA model compare to the original Brown categories? \n",
    "\n",
    "A: Topic 0 tends to align with the romance category by a moderately strong association. Topic 1 appears to align strongest with the government category, however the hobbies category shares a somewhat similar association. Topic 2 shares a strong association with editoral and news categories, however it appears to be ambiguous when comparing between the two categories. Topic 3 shares a moderate association with the hobby category, however with the relatively low document count this association must be considered with a higher margin or error. Topic 4 shares a moderately strong association with the government topics, however, as with Topic 3 this association must be considered with a higher margin for error."
   ]
  },
  {
   "cell_type": "code",
   "execution_count": 23,
   "id": "6aae75ca",
   "metadata": {},
   "outputs": [],
   "source": [
    "lda_display = pyLDAvis.lda_model.prepare(lda_text_model, count_text_vectors, count_text_vectorizer, sort_topics=False)"
   ]
  },
  {
   "cell_type": "code",
   "execution_count": 24,
   "id": "2a89fc15",
   "metadata": {},
   "outputs": [
    {
     "data": {
      "text/html": [
       "\n",
       "<link rel=\"stylesheet\" type=\"text/css\" href=\"https://cdn.jsdelivr.net/gh/bmabey/pyLDAvis@3.4.0/pyLDAvis/js/ldavis.v1.0.0.css\">\n",
       "\n",
       "\n",
       "<div id=\"ldavis_el5570130750464487733079242\" style=\"background-color:white;\"></div>\n",
       "<script type=\"text/javascript\">\n",
       "\n",
       "var ldavis_el5570130750464487733079242_data = {\"mdsDat\": {\"x\": [-0.24352303362204136, 0.13055719395526003, -0.056656675473926936, 0.041427484839751366, 0.128195030300957], \"y\": [0.006829720679474006, -0.055884744701645034, 0.03852366287446478, -0.11285215230955899, 0.12338351345726517], \"topics\": [1, 2, 3, 4, 5], \"cluster\": [1, 1, 1, 1, 1], \"Freq\": [22.896957296534445, 20.43196854284181, 32.00626407252678, 12.368825612932088, 12.295984475164891]}, \"tinfo\": {\"Term\": [\"states\", \"state\", \"said\", \"mrs\", \"united\", \"shall\", \"development\", \"tax\", \"feed\", \"fiscal\", \"college\", \"government\", \"ll\", \"don\", \"000\", \"university\", \"department\", \"didn\", \"sales\", \"president\", \"rhode\", \"got\", \"equipment\", \"little\", \"mother\", \"class\", \"act\", \"program\", \"system\", \"property\", \"hair\", \"baby\", \"clothes\", \"walls\", \"anne\", \"fig\", \"pale\", \"pink\", \"dry\", \"yellow\", \"entrance\", \"hadn\", \"ham\", \"couldn\", \"frames\", \"fingers\", \"flowers\", \"windows\", \"bride\", \"hell\", \"handsome\", \"coat\", \"cloth\", \"sweet\", \"stared\", \"liked\", \"colored\", \"studio\", \"bed\", \"trees\", \"shelter\", \"mother\", \"looked\", \"clay\", \"wasn\", \"guests\", \"didn\", \"woman\", \"sat\", \"pieces\", \"colors\", \"eyes\", \"drill\", \"mrs\", \"ll\", \"don\", \"thought\", \"room\", \"sun\", \"inch\", \"ve\", \"black\", \"little\", \"knew\", \"went\", \"sure\", \"got\", \"door\", \"look\", \"son\", \"know\", \"said\", \"way\", \"come\", \"came\", \"good\", \"place\", \"away\", \"old\", \"water\", \"right\", \"man\", \"let\", \"life\", \"left\", \"house\", \"day\", \"home\", \"systems\", \"marketing\", \"electronic\", \"boats\", \"missiles\", \"components\", \"aircraft\", \"machine\", \"rhode\", \"assessment\", \"shipments\", \"laboratory\", \"bankers\", \"savings\", \"yield\", \"industrial\", \"forests\", \"compared\", \"machines\", \"procurement\", \"missile\", \"conservation\", \"utility\", \"inventories\", \"polaris\", \"manufacturing\", \"machinery\", \"investment\", \"recreation\", \"banks\", \"property\", \"industry\", \"equipment\", \"sales\", \"radiation\", \"planning\", \"development\", \"medical\", \"providence\", \"billion\", \"system\", \"shares\", \"manufacturers\", \"island\", \"1960\", \"production\", \"1959\", \"products\", \"research\", \"co\", \"range\", \"000\", \"program\", \"business\", \"cost\", \"million\", \"available\", \"state\", \"small\", \"company\", \"national\", \"1961\", \"provide\", \"areas\", \"service\", \"use\", \"military\", \"tax\", \"public\", \"khrushchev\", \"player\", \"rayburn\", \"congo\", \"republican\", \"moscow\", \"southern\", \"baseball\", \"railroad\", \"castro\", \"troops\", \"yards\", \"charter\", \"yankees\", \"premier\", \"alexander\", \"democrats\", \"captain\", \"chinese\", \"coach\", \"laos\", \"gen\", \"cuban\", \"opposition\", \"soviet\", \"katanga\", \"republicans\", \"pope\", \"bombs\", \"robinson\", \"berlin\", \"speaker\", \"communist\", \"democratic\", \"eisenhower\", \"league\", \"mayor\", \"cuba\", \"st\", \"police\", \"yesterday\", \"china\", \"west\", \"monday\", \"race\", \"john\", \"east\", \"kennedy\", \"city\", \"mr\", \"meeting\", \"party\", \"president\", \"said\", \"week\", \"war\", \"political\", \"nations\", \"game\", \"committee\", \"leaders\", \"american\", \"world\", \"york\", \"home\", \"county\", \"man\", \"united\", \"people\", \"house\", \"state\", \"day\", \"old\", \"000\", \"government\", \"men\", \"national\", \"states\", \"school\", \"academic\", \"faculty\", \"trustees\", \"campus\", \"recognition\", \"classical\", \"professors\", \"mathematics\", \"musical\", \"tends\", \"feed\", \"stockholders\", \"fulfill\", \"meat\", \"unions\", \"chemical\", \"motors\", \"prosperity\", \"cattle\", \"prestige\", \"designer\", \"curriculum\", \"clerical\", \"catholic\", \"collective\", \"recorded\", \"appearances\", \"creative\", \"membership\", \"trust\", \"music\", \"chamber\", \"students\", \"student\", \"colleges\", \"teachers\", \"college\", \"engineer\", \"interior\", \"university\", \"daily\", \"pool\", \"schools\", \"education\", \"art\", \"general\", \"anti\", \"members\", \"technical\", \"labor\", \"design\", \"administration\", \"level\", \"work\", \"school\", \"president\", \"problem\", \"board\", \"department\", \"american\", \"good\", \"men\", \"aid\", \"world\", \"high\", \"cousin\", \"rehabilitation\", \"coal\", \"vocational\", \"definition\", \"denied\", \"thereof\", \"bonds\", \"payment\", \"rico\", \"puerto\", \"coordination\", \"filing\", \"adopting\", \"recommendation\", \"calendar\", \"hated\", \"proceedings\", \"commodities\", \"sectors\", \"connections\", \"62\", \"vehicles\", \"allocation\", \"treasury\", \"tractor\", \"adjustments\", \"upstairs\", \"shall\", \"assigned\", \"india\", \"exercise\", \"interference\", \"payments\", \"fiscal\", \"authorized\", \"claim\", \"stations\", \"insurance\", \"claims\", \"class\", \"states\", \"income\", \"return\", \"tax\", \"united\", \"junior\", \"hearing\", \"act\", \"countries\", \"cars\", \"state\", \"agreement\", \"department\", \"government\", \"secretary\", \"officer\", \"section\", \"title\", \"federal\", \"use\", \"service\", \"30\", \"board\", \"services\", \"pay\", \"local\", \"day\"], \"Freq\": [328.0, 485.0, 803.0, 307.0, 298.0, 123.0, 199.0, 172.0, 93.0, 107.0, 120.0, 273.0, 167.0, 178.0, 282.0, 122.0, 153.0, 124.0, 117.0, 297.0, 86.0, 147.0, 105.0, 237.0, 97.0, 97.0, 127.0, 230.0, 142.0, 95.0, 35.2660316976795, 35.25985457287084, 32.34282391715048, 32.33880808918394, 34.23407300433103, 31.32761923162944, 26.49851762545449, 25.52477104102502, 23.57323677816412, 25.427138253320564, 21.61942811514906, 30.993044678951435, 19.675700186736574, 51.439817072385054, 20.589733305569997, 17.72631275209298, 23.305040810822835, 16.7519733109185, 17.67796618496797, 15.781789493525485, 15.780666162782097, 15.765038139000252, 14.807347406646532, 14.806857679256783, 14.806525243898378, 14.805562659021431, 15.72134167497508, 14.793031300690537, 34.1487484942612, 27.74245501030448, 57.20416985925253, 90.05985801714505, 78.93387784968826, 75.71076669182486, 53.90723878296297, 29.982839371430053, 108.73073941993039, 50.25085074519483, 34.93419186644635, 48.2975237626705, 27.14174620759289, 83.99183249657621, 31.328311483268074, 234.332432241956, 134.736823888284, 142.22532063651934, 113.48998687104906, 84.70739288661416, 47.851073173593335, 58.281643606515296, 69.82209572678208, 54.44733492420305, 159.93873456068212, 71.32903793545283, 100.47914727932272, 70.8073941289149, 101.54763550743178, 56.564345442016055, 89.14937958191939, 57.94278765631487, 112.80221967394877, 300.1915799527003, 143.08214720581603, 108.66785528409196, 97.93192846288159, 146.72016490751076, 107.63695959300946, 81.83857826579651, 125.33252753577936, 93.65427756652967, 105.80662989454568, 122.43392673750697, 76.37882747857931, 81.8560900906335, 81.25833894745249, 87.71132897871954, 85.95109916972159, 84.11085690371253, 37.62033917696883, 41.26043043714826, 26.10850412689411, 38.01490066718644, 22.24099597794044, 21.223514374686573, 54.24848359225273, 50.394700061919146, 82.3381493049648, 17.22632723406702, 13.599502717078913, 16.29088859098536, 10.74063215723179, 17.005387252552136, 15.133342494227298, 72.03843499106003, 14.938223060271746, 24.574363297208013, 28.908173871233426, 17.44886776203958, 36.58474259793835, 7.854789008100249, 11.322258118599663, 6.910963131905765, 6.90697794161258, 18.16721140781807, 30.17941537930661, 24.918058009903866, 32.62393120086358, 16.267831354180665, 85.04409531611377, 85.23076408361727, 92.04061867537715, 102.2103074033813, 31.41994186225813, 72.29354736159623, 160.584566956694, 84.12221117794044, 39.271013042527734, 47.153525908302214, 110.99031567699497, 32.52656888050948, 35.56961213374267, 88.51387155669511, 93.20958887097943, 63.84974612826236, 50.271962739499735, 49.696057546593366, 72.63469421541095, 46.8262104088304, 53.98496787689076, 144.62866634727263, 123.50896845655319, 113.19861054790829, 73.6103890689065, 79.16133829903085, 74.66204969189859, 169.46520342296233, 100.42960965644956, 76.12853270707242, 92.20105914345187, 67.16061893470133, 66.50125650021174, 62.631295228026985, 86.66947068148013, 95.41631280398072, 65.25389352558307, 67.84173831149502, 65.61364145319381, 73.42554374783127, 48.677684982965964, 46.70642783836328, 43.7333749348919, 39.778178768084466, 37.80010747839434, 34.827228410194245, 39.618770244775064, 32.841809048472705, 29.881397928372575, 26.91281765701297, 26.899591011393, 27.860295497571617, 25.925615833025635, 24.935202646112863, 24.927860722599345, 23.94619677327184, 23.938724665538547, 22.94971042948157, 22.940661109611252, 49.614781943724125, 21.95531968014698, 20.974708622899172, 20.956960655847762, 78.92743956978484, 19.98234147220938, 19.972841684788584, 19.967439518925552, 18.996535964167773, 18.99455107756809, 63.22425972645923, 40.66068656369507, 70.96278176057119, 59.00465760184123, 38.646633209979285, 57.991204762006824, 43.217711501538915, 36.74625566194079, 71.47530467432694, 44.37915026504126, 58.02965358273131, 32.82823725515495, 96.0841853883144, 58.465154170308544, 40.505659296092915, 142.9836847835176, 83.85420121427462, 111.14875577393464, 172.6235320002638, 287.8781423603006, 84.13213702614426, 92.01772270153518, 205.40634873734743, 470.8902208582252, 140.76265143255995, 113.01139950261593, 71.05038233620007, 67.16518889885629, 73.87620209973943, 83.76171945290713, 50.00246714063674, 148.64615016805433, 138.1358696255809, 96.83009236355026, 140.02404620727495, 76.83350051553272, 129.58037547484773, 125.62152536157626, 118.3621020472279, 110.56501449328113, 148.8451794619119, 119.60071243642454, 108.76991140081178, 105.30536803757691, 99.52164947706382, 90.46561781119041, 91.57849254494347, 96.1578640727866, 83.84436994950718, 27.814826569302763, 48.936847090043706, 18.503509985385975, 14.879468477087567, 15.473941152164253, 9.373352607053867, 8.429864173735867, 7.5462724196644535, 18.41492046315912, 7.5189597994270825, 84.44155436104485, 18.268486568333202, 6.622128289059264, 19.541713824661688, 18.58713025433586, 23.14611199920264, 38.25197181315949, 4.773288678682475, 17.381566736920462, 10.23881677383223, 14.802706325018878, 7.011676741661547, 4.663272913791562, 25.479595882436143, 10.014582060857434, 7.5823981589187515, 4.540015041328564, 12.853649254073634, 19.425628383036653, 29.706978723475064, 46.8250108783509, 21.450400541392465, 52.99436840195943, 54.95528137360935, 16.31100829518646, 25.6207306982236, 83.62014229714062, 24.941675902345818, 28.633459492336435, 67.01241734256328, 33.331261741899866, 43.62737654411652, 49.3203792083092, 46.41828570415984, 34.85619603196483, 67.66899625922112, 32.10381351159181, 51.62302814445633, 31.177936996002884, 33.895493042174905, 35.040820639017575, 44.49327955892628, 35.2288344267416, 56.488612527783076, 47.16711951156582, 55.68778966133637, 39.64150536052242, 42.715660545387934, 38.014824047683554, 43.015109783672635, 42.90256178570282, 38.257154409179165, 34.068781601685984, 37.628796504514185, 34.8460707326974, 24.895381739117916, 17.608710471055915, 22.617152720693426, 12.988354717680897, 12.081651178952166, 17.255761258059287, 11.043916669732493, 28.504391307942154, 36.751871727233535, 17.292619041590694, 17.289973715259727, 6.586201822372028, 15.531276371536087, 5.669749860722187, 16.06995842193474, 20.125736782358157, 5.626627615289113, 6.416436823858535, 14.343171489794209, 4.761534756745235, 5.547238482984924, 5.532508833757236, 35.569508144024034, 10.223530392476109, 22.866566967658507, 19.499373411737245, 10.913572827235155, 5.430408333634624, 101.16733937850309, 9.141628146127175, 29.60437781154292, 21.945570724591875, 28.494458626329145, 31.902747941397063, 82.24350507900883, 23.619992267390987, 32.82368814475596, 43.57399739685012, 25.7573102222597, 22.21335819721851, 63.52515544416807, 175.30239292056646, 50.039862686244625, 41.161012434359925, 86.6587533199167, 128.3923792638736, 39.91034171743856, 33.81578682770519, 65.01077528351193, 47.42060534620153, 40.20927959281346, 156.29426259716897, 38.83917469224583, 66.04762002987086, 93.49618556474564, 54.83909075025175, 32.98378789632132, 41.664568001741614, 29.989970407909535, 43.23305137556858, 57.37752089386285, 52.70114914664669, 42.22418118531037, 42.527153601330035, 36.82910800278628, 37.096810629376066, 36.74442128741928, 37.17615767602716], \"Total\": [328.0, 485.0, 803.0, 307.0, 298.0, 123.0, 199.0, 172.0, 93.0, 107.0, 120.0, 273.0, 167.0, 178.0, 282.0, 122.0, 153.0, 124.0, 117.0, 297.0, 86.0, 147.0, 105.0, 237.0, 97.0, 97.0, 127.0, 230.0, 142.0, 95.0, 36.02603912499985, 36.02588883819034, 33.10322172299764, 33.1031994515162, 35.05056255948612, 32.128537874832716, 27.257595896582217, 26.283381057698207, 24.334723323645928, 26.284575607309364, 22.38617131270356, 32.13491772930472, 20.437642353730425, 53.48541765786133, 21.413009212119373, 18.488977697815795, 24.319878358135636, 17.51484102850205, 18.48997788651864, 16.54070720566731, 16.540683839194845, 16.540152118252482, 15.56643207582317, 15.566368553159574, 15.566439385894085, 15.56640853615906, 16.54112310277151, 15.566128130021555, 35.96189057796923, 29.216873363902355, 60.420302485952554, 97.5081366544042, 85.71452146351676, 82.76557482881312, 58.488069645836035, 32.150436434493216, 124.77305109139073, 55.49593407027592, 37.89639184076529, 53.44875378566885, 29.18685535443565, 98.42108266493295, 34.108659255171254, 307.99715835781416, 167.834227125137, 178.1854227837813, 139.8217103611608, 103.42674442190591, 54.56223811623199, 68.76954856434932, 84.83647160041039, 64.26201397041541, 237.75277971425635, 90.51973633420366, 137.7059309562873, 91.77444009129961, 147.79376856176168, 70.06214294099412, 129.86657516906672, 73.99592681862174, 191.48072080434136, 803.8548070648294, 274.8542726057724, 186.07372334983495, 163.1589979967047, 306.4340359076893, 190.15544412730648, 123.89985251249692, 254.8494682894125, 162.7169852126024, 213.57338284403212, 283.0153604519204, 121.9563692552673, 161.53017716157902, 163.20991301290175, 234.12184367687405, 302.34647433345026, 268.51376419796026, 38.389001812768875, 42.219751146557215, 26.870239511488506, 39.325305112537514, 23.03135590818637, 22.069023878838767, 56.67664066614099, 52.835411858251376, 86.46800449904798, 18.221477632163296, 14.39006408192663, 17.262361508112345, 11.51144266243097, 18.237457198455783, 16.292903446551154, 78.46760127905374, 16.284197226960202, 26.80226895725761, 31.645263380810672, 19.14727441136659, 40.18955772227334, 8.631750433563745, 12.458169098970648, 7.671836647717212, 7.671950307157885, 20.188446423100288, 33.58228715547518, 27.75816573167881, 36.44648449277575, 18.179838892874404, 95.59958109020091, 96.93212392160409, 105.65758026062859, 117.78573708942238, 35.55944348942255, 85.01192732215924, 199.00113683933108, 101.02292341395633, 45.14381488359439, 54.901189630749805, 142.66262791524017, 37.27576952579081, 41.990975863697244, 120.33277045687895, 129.77818451581422, 84.83256378608148, 63.72708403807205, 62.84418723668019, 102.9887673920247, 59.708950181380004, 72.90815716856002, 282.94427412443633, 230.32157269786694, 209.32374748162184, 115.94033775080977, 128.99304695412945, 119.71572579817433, 485.5254739281198, 211.3753924823506, 138.5374085496048, 215.73422314818586, 114.91801537520553, 112.93575546782299, 99.9067993539862, 203.57909034218514, 253.44869724604663, 123.30539886857132, 172.8096418311656, 200.805382073953, 74.1813261160513, 49.441690528266946, 47.46260119923946, 44.493590360104974, 40.535513996171375, 38.55638985076479, 35.58752782843549, 40.52408901130406, 33.60786999510347, 30.63965223281024, 27.67089434123132, 27.670809878218453, 28.659135933770315, 26.68148137168697, 25.691806203590648, 25.6916783254787, 24.70228207475657, 24.70215427298781, 23.71248703300205, 23.711939322752972, 51.34436129166911, 22.722416271833247, 21.733411082028493, 21.73225191921754, 81.93116365784138, 20.74359979320198, 20.742911377657396, 20.74332961345866, 19.75425783489287, 19.75431277254959, 66.10674015267466, 42.436983762163024, 74.99667222533029, 62.13038324129467, 40.45277924173406, 61.20732427285945, 45.3792727728093, 38.47958552212629, 78.0399664895098, 47.29725623534733, 63.027230870364654, 34.52865293710652, 108.34119862739155, 64.0092290665556, 43.34070314169641, 171.4081764578153, 96.50766365165029, 132.04188079153846, 217.9054891778165, 392.8566393536836, 99.38191347480667, 110.41190710132182, 297.08938591194294, 803.8548070648294, 190.95279899715115, 148.12895827305647, 84.3318674127212, 80.65436811910895, 91.5428128078727, 111.05863796939241, 55.26520309710713, 262.8761488078903, 256.08998245885533, 148.46972078147337, 268.51376419796026, 105.84498183835274, 283.0153604519204, 298.7240339741691, 265.6177234105347, 234.12184367687405, 485.5254739281198, 302.34647433345026, 254.8494682894125, 282.94427412443633, 273.1049196397213, 193.49518722056058, 215.73422314818586, 328.0876630034327, 171.68266645156046, 28.587671191002872, 50.75235104005465, 19.380805810593987, 15.693304333758888, 16.633414863075203, 10.165631588135184, 9.245712123820626, 8.322226888959053, 20.348539793129635, 8.322341294361458, 93.52912134200899, 20.35067352827828, 7.401195317063837, 22.202972880525124, 21.263556998272573, 26.864176614307766, 44.466850734734656, 5.559156794388772, 20.42984832479432, 12.0805667269489, 17.616166085442206, 8.344571664079323, 5.563614525856893, 30.740062340111102, 12.09712198877597, 9.309062259927508, 5.575810965371246, 15.790102910241018, 24.23635962717946, 37.14065807513555, 59.64261324812848, 27.08108297787436, 68.97438698866303, 71.68275492289162, 20.467141713564438, 33.34760135025246, 120.99975166695648, 32.58028930812074, 39.89608051957487, 122.31078776847795, 52.49852760150618, 75.23212830270079, 89.45812584148683, 84.5614629460038, 57.493258352735744, 198.0062127777887, 57.79720640203339, 140.21994582812468, 57.24356765830154, 68.34216300022533, 74.7287103777943, 131.40907157119446, 82.98496450235838, 256.9778623927558, 171.68266645156046, 297.08938591194294, 117.36282478725462, 173.0251476470947, 153.0306200256715, 262.8761488078903, 306.4340359076893, 193.49518722056058, 99.64739691842244, 256.08998245885533, 217.960932031602, 25.7199003569581, 18.37920616005877, 23.884995096222173, 13.795801363596564, 12.877393873437683, 18.395872134442133, 11.965555537317105, 31.301788527830055, 40.52555344944815, 19.305747619464753, 19.30538173564196, 7.373665018594341, 17.516110794478628, 6.456504867903861, 18.38654313683196, 23.075914689335114, 6.459370956327407, 7.37405791546939, 16.593451639249732, 5.538818995171568, 6.462219526241352, 6.457204216744039, 41.58244844081574, 11.963052970316317, 26.870254060738787, 23.09135146214558, 12.931560935207848, 6.471692815484674, 123.04949327572976, 11.129093826135723, 36.08726596770417, 26.774612595552792, 35.1919725534437, 39.79154818535327, 107.51555928474951, 29.57370429691555, 42.54665994150667, 57.80855935459391, 33.291642037189185, 28.658975142612576, 97.16968285832567, 328.0876630034327, 79.94285226747925, 64.56516799991905, 172.8096418311656, 298.7240339741691, 62.79076549191266, 50.551680739664846, 127.86759220361665, 82.87435176840471, 65.84647973719707, 485.5254739281198, 64.87874739797836, 153.0306200256715, 273.1049196397213, 119.84296064796635, 52.256274530524934, 81.49566812100718, 44.58064300425602, 112.63804601931176, 253.44869724604663, 203.57909034218514, 114.3879313715759, 173.0251476470947, 93.3865762453041, 103.89058589990495, 128.42114372832103, 302.34647433345026], \"Category\": [\"Default\", \"Default\", \"Default\", \"Default\", \"Default\", \"Default\", \"Default\", \"Default\", \"Default\", \"Default\", \"Default\", \"Default\", \"Default\", \"Default\", \"Default\", \"Default\", \"Default\", \"Default\", \"Default\", \"Default\", \"Default\", \"Default\", \"Default\", \"Default\", \"Default\", \"Default\", \"Default\", \"Default\", \"Default\", \"Default\", \"Topic1\", \"Topic1\", \"Topic1\", \"Topic1\", \"Topic1\", \"Topic1\", \"Topic1\", \"Topic1\", \"Topic1\", \"Topic1\", \"Topic1\", \"Topic1\", \"Topic1\", \"Topic1\", \"Topic1\", \"Topic1\", \"Topic1\", \"Topic1\", \"Topic1\", \"Topic1\", \"Topic1\", \"Topic1\", \"Topic1\", \"Topic1\", \"Topic1\", \"Topic1\", \"Topic1\", \"Topic1\", \"Topic1\", \"Topic1\", \"Topic1\", \"Topic1\", \"Topic1\", \"Topic1\", \"Topic1\", \"Topic1\", \"Topic1\", \"Topic1\", \"Topic1\", \"Topic1\", \"Topic1\", \"Topic1\", \"Topic1\", \"Topic1\", \"Topic1\", \"Topic1\", \"Topic1\", \"Topic1\", \"Topic1\", \"Topic1\", \"Topic1\", \"Topic1\", \"Topic1\", \"Topic1\", \"Topic1\", \"Topic1\", \"Topic1\", \"Topic1\", \"Topic1\", \"Topic1\", \"Topic1\", \"Topic1\", \"Topic1\", \"Topic1\", \"Topic1\", \"Topic1\", \"Topic1\", \"Topic1\", \"Topic1\", \"Topic1\", \"Topic1\", \"Topic1\", \"Topic1\", \"Topic1\", \"Topic1\", \"Topic1\", \"Topic1\", \"Topic1\", \"Topic2\", \"Topic2\", \"Topic2\", \"Topic2\", \"Topic2\", \"Topic2\", \"Topic2\", \"Topic2\", \"Topic2\", \"Topic2\", \"Topic2\", \"Topic2\", \"Topic2\", \"Topic2\", \"Topic2\", \"Topic2\", \"Topic2\", \"Topic2\", \"Topic2\", \"Topic2\", \"Topic2\", \"Topic2\", \"Topic2\", \"Topic2\", \"Topic2\", \"Topic2\", \"Topic2\", \"Topic2\", \"Topic2\", \"Topic2\", \"Topic2\", \"Topic2\", \"Topic2\", \"Topic2\", \"Topic2\", \"Topic2\", \"Topic2\", \"Topic2\", \"Topic2\", \"Topic2\", \"Topic2\", \"Topic2\", \"Topic2\", \"Topic2\", \"Topic2\", \"Topic2\", \"Topic2\", \"Topic2\", \"Topic2\", \"Topic2\", \"Topic2\", \"Topic2\", \"Topic2\", \"Topic2\", \"Topic2\", \"Topic2\", \"Topic2\", \"Topic2\", \"Topic2\", \"Topic2\", \"Topic2\", \"Topic2\", \"Topic2\", \"Topic2\", \"Topic2\", \"Topic2\", \"Topic2\", \"Topic2\", \"Topic2\", \"Topic3\", \"Topic3\", \"Topic3\", \"Topic3\", \"Topic3\", \"Topic3\", \"Topic3\", \"Topic3\", \"Topic3\", \"Topic3\", \"Topic3\", \"Topic3\", \"Topic3\", \"Topic3\", \"Topic3\", \"Topic3\", \"Topic3\", \"Topic3\", \"Topic3\", \"Topic3\", \"Topic3\", \"Topic3\", \"Topic3\", \"Topic3\", \"Topic3\", \"Topic3\", \"Topic3\", \"Topic3\", \"Topic3\", \"Topic3\", \"Topic3\", \"Topic3\", \"Topic3\", \"Topic3\", \"Topic3\", \"Topic3\", \"Topic3\", \"Topic3\", \"Topic3\", \"Topic3\", \"Topic3\", \"Topic3\", \"Topic3\", \"Topic3\", \"Topic3\", \"Topic3\", \"Topic3\", \"Topic3\", \"Topic3\", \"Topic3\", \"Topic3\", \"Topic3\", \"Topic3\", \"Topic3\", \"Topic3\", \"Topic3\", \"Topic3\", \"Topic3\", \"Topic3\", \"Topic3\", \"Topic3\", \"Topic3\", \"Topic3\", \"Topic3\", \"Topic3\", \"Topic3\", \"Topic3\", \"Topic3\", \"Topic3\", \"Topic3\", \"Topic3\", \"Topic3\", \"Topic3\", \"Topic3\", \"Topic3\", \"Topic3\", \"Topic3\", \"Topic3\", \"Topic3\", \"Topic4\", \"Topic4\", \"Topic4\", \"Topic4\", \"Topic4\", \"Topic4\", \"Topic4\", \"Topic4\", \"Topic4\", \"Topic4\", \"Topic4\", \"Topic4\", \"Topic4\", \"Topic4\", \"Topic4\", \"Topic4\", \"Topic4\", \"Topic4\", \"Topic4\", \"Topic4\", \"Topic4\", \"Topic4\", \"Topic4\", \"Topic4\", \"Topic4\", \"Topic4\", \"Topic4\", \"Topic4\", \"Topic4\", \"Topic4\", \"Topic4\", \"Topic4\", \"Topic4\", \"Topic4\", \"Topic4\", \"Topic4\", \"Topic4\", \"Topic4\", \"Topic4\", \"Topic4\", \"Topic4\", \"Topic4\", \"Topic4\", \"Topic4\", \"Topic4\", \"Topic4\", \"Topic4\", \"Topic4\", \"Topic4\", \"Topic4\", \"Topic4\", \"Topic4\", \"Topic4\", \"Topic4\", \"Topic4\", \"Topic4\", \"Topic4\", \"Topic4\", \"Topic4\", \"Topic4\", \"Topic4\", \"Topic4\", \"Topic4\", \"Topic4\", \"Topic4\", \"Topic5\", \"Topic5\", \"Topic5\", \"Topic5\", \"Topic5\", \"Topic5\", \"Topic5\", \"Topic5\", \"Topic5\", \"Topic5\", \"Topic5\", \"Topic5\", \"Topic5\", \"Topic5\", \"Topic5\", \"Topic5\", \"Topic5\", \"Topic5\", \"Topic5\", \"Topic5\", \"Topic5\", \"Topic5\", \"Topic5\", \"Topic5\", \"Topic5\", \"Topic5\", \"Topic5\", \"Topic5\", \"Topic5\", \"Topic5\", \"Topic5\", \"Topic5\", \"Topic5\", \"Topic5\", \"Topic5\", \"Topic5\", \"Topic5\", \"Topic5\", \"Topic5\", \"Topic5\", \"Topic5\", \"Topic5\", \"Topic5\", \"Topic5\", \"Topic5\", \"Topic5\", \"Topic5\", \"Topic5\", \"Topic5\", \"Topic5\", \"Topic5\", \"Topic5\", \"Topic5\", \"Topic5\", \"Topic5\", \"Topic5\", \"Topic5\", \"Topic5\", \"Topic5\", \"Topic5\", \"Topic5\", \"Topic5\", \"Topic5\", \"Topic5\", \"Topic5\", \"Topic5\", \"Topic5\", \"Topic5\"], \"logprob\": [30.0, 29.0, 28.0, 27.0, 26.0, 25.0, 24.0, 23.0, 22.0, 21.0, 20.0, 19.0, 18.0, 17.0, 16.0, 15.0, 14.0, 13.0, 12.0, 11.0, 10.0, 9.0, 8.0, 7.0, 6.0, 5.0, 4.0, 3.0, 2.0, 1.0, -6.6963, -6.6965, -6.7828, -6.7829, -6.726, -6.8147, -6.9821, -7.0195, -7.0991, -7.0234, -7.1856, -6.8254, -7.2798, -6.3188, -7.2344, -7.3841, -7.1105, -7.4407, -7.3869, -7.5003, -7.5004, -7.5014, -7.5641, -7.5641, -7.5641, -7.5642, -7.5042, -7.565, -6.7285, -6.9362, -6.2126, -5.7587, -5.8906, -5.9323, -6.2719, -6.8586, -5.5703, -6.3422, -6.7057, -6.3818, -6.9581, -5.8285, -6.8147, -4.8025, -5.3559, -5.3018, -5.5275, -5.82, -6.3911, -6.1939, -6.0132, -6.262, -5.1844, -5.9919, -5.6492, -5.9992, -5.6387, -6.2238, -5.7689, -6.1997, -5.5336, -4.5548, -5.2958, -5.5709, -5.6749, -5.2707, -5.5804, -5.8544, -5.4282, -5.7196, -5.5976, -5.4516, -5.9235, -5.8542, -5.8616, -5.7851, -5.8054, -5.8271, -6.5177, -6.4254, -6.883, -6.5073, -7.0434, -7.0902, -6.1517, -6.2254, -5.7345, -7.2989, -7.5353, -7.3547, -7.7713, -7.3118, -7.4284, -5.8681, -7.4414, -6.9436, -6.7812, -7.286, -6.5457, -8.0842, -7.7185, -8.2122, -8.2128, -7.2457, -6.7381, -6.9297, -6.6602, -7.3561, -5.7021, -5.6999, -5.6231, -5.5183, -6.6978, -5.8646, -5.0665, -5.713, -6.4748, -6.2919, -5.4358, -6.6632, -6.5738, -5.6621, -5.6104, -5.9888, -6.2278, -6.2394, -5.8598, -6.2988, -6.1566, -5.1711, -5.329, -5.4161, -5.8465, -5.7738, -5.8323, -5.0126, -5.5358, -5.8129, -5.6213, -5.9382, -5.9481, -6.008, -5.6832, -5.587, -5.967, -5.9281, -5.9615, -6.2979, -6.7089, -6.7502, -6.816, -6.9108, -6.9618, -7.0437, -6.9148, -7.1024, -7.1969, -7.3015, -7.302, -7.2669, -7.3389, -7.3778, -7.3781, -7.4183, -7.4186, -7.4608, -7.4612, -6.6898, -7.5051, -7.5508, -7.5517, -6.2256, -7.5993, -7.5997, -7.6, -7.6499, -7.65, -6.4474, -6.8889, -6.332, -6.5165, -6.9397, -6.5338, -6.8279, -6.9901, -6.3248, -6.8014, -6.5332, -7.1028, -6.0289, -6.5257, -6.8927, -5.6314, -6.165, -5.8833, -5.443, -4.9316, -6.1617, -6.0721, -5.2691, -4.4395, -5.647, -5.8666, -6.3307, -6.387, -6.2917, -6.1661, -6.6821, -5.5926, -5.6659, -6.0212, -5.6523, -6.2525, -5.7298, -5.7608, -5.8204, -5.8885, -5.5912, -5.81, -5.9049, -5.9373, -5.9937, -6.0892, -6.0769, -6.0281, -6.1652, -6.3178, -5.7528, -6.7254, -6.9434, -6.9042, -7.4055, -7.5116, -7.6223, -6.7302, -7.6259, -5.2073, -6.7382, -7.753, -6.6708, -6.7209, -6.5015, -5.9992, -8.0803, -6.788, -7.3172, -6.9486, -7.6958, -8.1037, -6.4055, -7.3393, -7.6175, -8.1304, -7.0897, -6.6768, -6.252, -5.797, -6.5776, -5.6732, -5.6369, -6.8515, -6.4, -5.2171, -6.4268, -6.2888, -5.4385, -6.1369, -5.8677, -5.745, -5.8057, -6.0921, -5.4287, -6.1744, -5.6994, -6.2037, -6.1201, -6.0869, -5.848, -6.0815, -5.6093, -5.7897, -5.6236, -5.9635, -5.8888, -6.0054, -5.8818, -5.8844, -5.999, -6.115, -6.0156, -6.0924, -6.4228, -6.7691, -6.5188, -7.0734, -7.1458, -6.7893, -7.2356, -6.2874, -6.0333, -6.7872, -6.7873, -7.7525, -6.8946, -7.9023, -6.8605, -6.6355, -7.91, -7.7786, -6.9742, -8.0769, -7.9242, -7.9268, -6.066, -7.3128, -6.5078, -6.6671, -7.2475, -7.9454, -5.0207, -7.4246, -6.2495, -6.5489, -6.2878, -6.1748, -5.2278, -6.4754, -6.1463, -5.863, -6.3887, -6.5368, -5.486, -4.471, -5.7246, -5.92, -5.1755, -4.7824, -5.9508, -6.1165, -5.4629, -5.7784, -5.9434, -4.5857, -5.978, -5.4471, -5.0995, -5.6331, -6.1414, -5.9078, -6.2366, -5.8709, -5.5878, -5.6728, -5.8945, -5.8873, -6.0312, -6.0239, -6.0335, -6.0218], \"loglift\": [30.0, 29.0, 28.0, 27.0, 26.0, 25.0, 24.0, 23.0, 22.0, 21.0, 20.0, 19.0, 18.0, 17.0, 16.0, 15.0, 14.0, 13.0, 12.0, 11.0, 10.0, 9.0, 8.0, 7.0, 6.0, 5.0, 4.0, 3.0, 2.0, 1.0, 1.4528, 1.4527, 1.4509, 1.4508, 1.4506, 1.4489, 1.4459, 1.4449, 1.4424, 1.441, 1.4393, 1.438, 1.4362, 1.4352, 1.435, 1.432, 1.4315, 1.4296, 1.4293, 1.4272, 1.4271, 1.4262, 1.4242, 1.4241, 1.4241, 1.4241, 1.4233, 1.4232, 1.4224, 1.4224, 1.4195, 1.3947, 1.3918, 1.3851, 1.3926, 1.4044, 1.3365, 1.3749, 1.3928, 1.3728, 1.4015, 1.3156, 1.3891, 1.2008, 1.2545, 1.2488, 1.2655, 1.2745, 1.3429, 1.3087, 1.2794, 1.3084, 1.0777, 1.2359, 1.159, 1.2148, 1.0989, 1.2602, 1.098, 1.2296, 0.945, 0.4892, 0.8213, 0.9363, 0.9637, 0.7377, 0.9051, 1.0594, 0.7645, 0.9218, 0.7718, 0.6362, 1.0062, 0.7944, 0.7768, 0.4924, 0.2164, 0.3134, 1.5678, 1.5651, 1.5593, 1.5542, 1.5532, 1.549, 1.5443, 1.5408, 1.5391, 1.5319, 1.5316, 1.5301, 1.5188, 1.5181, 1.5142, 1.5026, 1.5018, 1.5013, 1.4976, 1.4952, 1.4941, 1.4937, 1.4925, 1.4836, 1.483, 1.4826, 1.4812, 1.4801, 1.4773, 1.4769, 1.4711, 1.4594, 1.4501, 1.4462, 1.4643, 1.426, 1.3736, 1.405, 1.4487, 1.4359, 1.337, 1.4518, 1.4221, 1.281, 1.2571, 1.3039, 1.3509, 1.3533, 1.2389, 1.345, 1.2876, 0.917, 0.9649, 0.9733, 1.1338, 1.0998, 1.1159, 0.5355, 0.8439, 0.9894, 0.738, 1.0509, 1.0585, 1.1211, 0.7341, 0.6112, 0.9517, 0.6531, 0.4695, 1.129, 1.1237, 1.1232, 1.122, 1.1204, 1.1194, 1.1176, 1.1166, 1.1162, 1.1142, 1.1115, 1.111, 1.111, 1.1105, 1.1093, 1.1091, 1.1082, 1.1078, 1.1065, 1.1062, 1.105, 1.1049, 1.1037, 1.1029, 1.1019, 1.1018, 1.1014, 1.1011, 1.1001, 1.1, 1.0947, 1.0965, 1.084, 1.0876, 1.0936, 1.0853, 1.0904, 1.0931, 1.0514, 1.0756, 1.0566, 1.0887, 1.0192, 1.0486, 1.0716, 0.9579, 0.9987, 0.967, 0.9063, 0.8283, 0.9727, 0.957, 0.7702, 0.6044, 0.8343, 0.8686, 0.9679, 0.9562, 0.9248, 0.8572, 1.0392, 0.5691, 0.5219, 0.7118, 0.4882, 0.8189, 0.358, 0.273, 0.3309, 0.389, -0.0431, 0.2118, 0.2878, 0.1509, 0.1298, 0.379, 0.2824, -0.0881, 0.4226, 2.0626, 2.0536, 2.0437, 2.0367, 2.0177, 2.0088, 1.9976, 1.9921, 1.9901, 1.9885, 1.9878, 1.9821, 1.9788, 1.9623, 1.9555, 1.941, 1.9394, 1.9376, 1.9284, 1.9246, 1.916, 1.916, 1.9135, 1.9023, 1.9011, 1.8848, 1.8845, 1.8842, 1.8687, 1.8667, 1.848, 1.8569, 1.8264, 1.8243, 1.863, 1.8264, 1.7205, 1.8228, 1.7583, 1.4883, 1.6357, 1.5451, 1.4946, 1.4902, 1.5896, 1.0163, 1.502, 1.0907, 1.4824, 1.3887, 1.3326, 1.007, 1.2332, 0.575, 0.798, 0.4157, 1.0046, 0.6911, 0.6973, 0.2799, 0.1239, 0.4691, 1.0167, 0.1722, 0.2566, 2.0633, 2.0531, 2.0414, 2.0356, 2.0321, 2.0319, 2.0157, 2.0023, 1.9982, 1.9858, 1.9856, 1.983, 1.9756, 1.966, 1.9612, 1.9591, 1.9579, 1.9568, 1.9502, 1.9447, 1.9432, 1.9413, 1.9397, 1.9388, 1.9346, 1.9268, 1.9262, 1.9205, 1.9001, 1.8992, 1.8979, 1.897, 1.8848, 1.8749, 1.8279, 1.8711, 1.8364, 1.8132, 1.8393, 1.8411, 1.6709, 1.4691, 1.6274, 1.6457, 1.4057, 1.2515, 1.6427, 1.6938, 1.4195, 1.5376, 1.6027, 0.9624, 1.5828, 1.2556, 1.024, 1.3141, 1.6358, 1.425, 1.6995, 1.1383, 0.6104, 0.7445, 1.0993, 0.6926, 1.1654, 1.0661, 0.8446, -0.0]}, \"token.table\": {\"Topic\": [1, 2, 3, 4, 5, 2, 3, 2, 3, 5, 1, 2, 3, 4, 5, 1, 2, 3, 4, 5, 5, 4, 1, 2, 3, 4, 5, 2, 5, 2, 3, 4, 5, 5, 2, 3, 5, 1, 2, 3, 4, 5, 2, 3, 3, 4, 5, 1, 2, 3, 4, 5, 1, 3, 4, 5, 4, 1, 2, 3, 4, 5, 1, 2, 3, 4, 2, 3, 5, 2, 4, 5, 1, 2, 4, 5, 1, 3, 4, 5, 1, 2, 2, 5, 3, 1, 5, 3, 4, 2, 3, 1, 3, 4, 1, 2, 3, 4, 5, 2, 5, 3, 2, 5, 1, 1, 2, 3, 4, 5, 1, 2, 5, 1, 2, 3, 5, 4, 3, 2, 3, 5, 3, 3, 4, 1, 3, 4, 3, 4, 3, 2, 4, 3, 4, 3, 1, 2, 3, 5, 2, 3, 4, 5, 2, 3, 4, 5, 1, 3, 4, 5, 4, 1, 2, 3, 4, 1, 1, 1, 2, 3, 4, 3, 4, 5, 1, 3, 4, 1, 2, 3, 4, 1, 2, 3, 4, 1, 1, 2, 1, 2, 3, 4, 5, 2, 3, 4, 2, 4, 5, 2, 3, 5, 2, 3, 4, 5, 2, 5, 2, 3, 5, 2, 5, 1, 2, 3, 4, 5, 1, 5, 2, 3, 4, 5, 2, 3, 4, 5, 5, 2, 3, 4, 3, 5, 3, 2, 4, 1, 2, 3, 4, 5, 1, 2, 3, 4, 5, 5, 3, 4, 3, 2, 5, 2, 3, 4, 5, 1, 2, 4, 2, 4, 1, 2, 4, 5, 1, 3, 4, 1, 2, 3, 4, 5, 1, 3, 4, 1, 3, 1, 1, 2, 3, 5, 1, 2, 3, 4, 5, 3, 5, 2, 1, 2, 4, 1, 1, 2, 4, 1, 4, 5, 1, 3, 4, 1, 4, 2, 3, 4, 5, 1, 2, 3, 4, 1, 2, 5, 1, 2, 5, 1, 2, 5, 1, 4, 1, 2, 3, 4, 3, 1, 2, 3, 4, 5, 1, 2, 3, 4, 5, 1, 3, 2, 3, 4, 5, 1, 3, 1, 3, 1, 1, 1, 5, 3, 4, 5, 1, 1, 2, 3, 4, 5, 1, 2, 3, 4, 5, 1, 2, 3, 4, 5, 1, 2, 3, 4, 1, 2, 4, 5, 2, 3, 4, 5, 2, 4, 2, 3, 4, 5, 2, 3, 4, 5, 2, 3, 4, 5, 2, 3, 4, 5, 2, 2, 4, 1, 2, 3, 4, 5, 1, 2, 3, 4, 5, 1, 3, 4, 5, 3, 2, 3, 4, 5, 3, 1, 3, 4, 5, 1, 2, 3, 4, 5, 2, 3, 4, 5, 2, 3, 5, 1, 2, 3, 1, 3, 4, 1, 3, 4, 5, 1, 2, 3, 4, 5, 1, 2, 3, 4, 5, 1, 2, 3, 4, 5, 1, 1, 2, 3, 4, 5, 1, 3, 4, 5, 1, 2, 3, 4, 5, 1, 2, 3, 4, 5, 1, 2, 3, 5, 2, 3, 2, 3, 5, 1, 2, 4, 1, 2, 3, 4, 5, 2, 4, 2, 3, 2, 4, 3, 4, 3, 4, 5, 2, 4, 5, 1, 2, 3, 4, 1, 2, 3, 4, 2, 3, 4, 1, 2, 3, 4, 5, 2, 3, 5, 1, 2, 3, 4, 5, 2, 4, 2, 1, 3, 4, 5, 3, 1, 3, 2, 4, 1, 2, 3, 4, 5, 1, 3, 1, 4, 2, 4, 1, 2, 3, 4, 5, 2, 3, 4, 5, 2, 3, 4, 5, 1, 2, 3, 4, 5, 3, 1, 1, 3, 4, 1, 2, 3, 4, 5, 2, 5, 2, 5, 1, 2, 3, 4, 5, 1, 2, 3, 4, 1, 1, 2, 3, 4, 5, 1, 2, 4, 5, 3, 2, 3, 4, 5, 2, 3, 4, 5, 1, 2, 4, 5, 3, 3, 1, 2, 3, 4, 5, 3, 4, 2, 3, 4, 5, 5, 2, 5, 1, 2, 3, 4, 5, 1, 2, 4, 5, 4, 2, 3, 4, 5, 1, 2, 4, 5, 4, 1, 2, 3, 4, 5, 2, 3, 4, 2, 3, 4, 5, 4, 5, 3, 5, 1, 2, 3, 1, 2, 3, 4, 5, 3, 1, 4, 4, 5, 3, 4, 1, 2, 5, 5, 3, 3, 1, 2, 3, 4, 5, 1, 3, 4, 5, 2, 3, 4, 5, 1, 2, 3, 4, 5, 3, 1, 3, 5, 1, 2, 3, 4, 5, 2, 3, 4, 5, 1, 3, 4, 1, 2, 1, 2, 3, 4, 5, 1, 2, 3, 4, 5, 2, 3, 4, 5, 1, 2, 4, 5, 5, 1, 2, 3, 4, 5, 2, 3, 4, 5, 1, 2, 3, 4, 5, 2, 3, 5, 1, 3, 2, 1, 2, 3, 4, 5, 1, 3, 4, 5, 3, 3, 4, 3, 4, 5, 1, 3, 1, 1, 2, 3, 4, 5, 2, 3, 4, 5, 2, 3, 5, 2, 4, 1, 2, 3, 4, 5, 1, 2, 3, 4, 5, 1, 1, 3, 5, 1, 3, 4, 5, 1, 1, 2, 3, 4, 5, 2, 2, 4, 5, 3, 4, 5, 2, 4, 4, 5, 1, 2, 3, 4, 5, 1, 3, 4, 5, 2, 5, 3, 5, 1, 3, 3, 2, 3, 4, 5, 4, 2, 4, 5, 2, 3, 4, 5, 1, 2, 3, 4, 5, 1, 2, 3, 4, 5, 2, 4, 1, 2, 3, 5, 2, 3, 5, 5, 1, 1, 2, 3, 4, 5, 1, 3, 1, 2, 4, 5, 1, 2, 3, 4, 5, 1, 2, 3, 4, 5, 1, 3, 4, 2, 3, 5, 1, 1, 3, 4, 1, 2, 3, 4, 5, 1, 2, 3, 4, 5, 3, 3, 1, 1, 3, 4, 2, 5, 1, 2, 3, 4, 5], \"Freq\": [0.003534264840999076, 0.5124684019448661, 0.371097808304903, 0.02120558904599446, 0.09542515070697506, 0.7845957610445322, 0.20399489787157837, 0.716607343113722, 0.19263638255745213, 0.09246546362757703, 0.00870185581203274, 0.5830243394061936, 0.2175463953008185, 0.05221113487219644, 0.14793154880455658, 0.017484361995351, 0.17484361995351, 0.3933981448953975, 0.0437109049883775, 0.36717160190237097, 0.9291947100637653, 0.9794431946877917, 0.015641179798046054, 0.21897651717264477, 0.08602648888925331, 0.17987356767752963, 0.5083383434364968, 0.07733018504188234, 0.8506320354607058, 0.281563514281084, 0.3120028131222823, 0.334832287253181, 0.0684884223926961, 0.9292953575899545, 0.15413367860908492, 0.23120051791362736, 0.6011213465754311, 0.010035385077029781, 0.3713092478501019, 0.2007077015405956, 0.34120309261901255, 0.07024769553920847, 0.9527734771383507, 0.035287906560679656, 0.9730777290328769, 0.0835907023467404, 0.8359070234674041, 0.03804072771664041, 0.15216291086656164, 0.566806842977942, 0.16357512918155376, 0.0836896009766089, 0.9700272268753704, 0.39794310887646683, 0.5536599775672583, 0.03460374859795364, 0.8967305439608089, 0.06005597255439056, 0.6305877118211008, 0.1801679176631717, 0.06005597255439056, 0.06005597255439056, 0.20872012378176502, 0.052180030945441255, 0.13914674918784334, 0.6087670276968147, 0.9329649517552172, 0.0898545753699718, 0.8086911783297461, 0.13525529165506628, 0.03381382291376657, 0.8115317499303978, 0.10859057916849091, 0.6264841105874476, 0.10859057916849091, 0.15870930801548672, 0.6618248394745202, 0.29055724659856985, 0.024213103883214154, 0.0322841385109522, 0.9715235662110072, 0.9555709325556452, 0.8800958080146247, 0.055005988000914045, 0.9870672228767963, 0.9454452881525892, 0.027807214357429094, 0.9530041846640813, 0.030254101100447024, 0.8560834531293217, 0.1275017908916011, 0.8403097983337438, 0.10892904793215197, 0.031122585123471994, 0.13292865408738863, 0.03467704019671008, 0.34099089526764914, 0.24851878807642225, 0.24851878807642225, 0.9662989235876269, 0.025428919041779654, 0.9618179614138382, 0.06389411257512724, 0.9264646323393451, 0.9735003530276858, 0.10987764301333917, 0.5398336374133621, 0.12898679832000687, 0.14809595362667455, 0.07165933240000381, 0.04333522694388211, 0.04333522694388211, 0.8667045388776422, 0.6006410998060879, 0.09193486221521753, 0.30032054990304397, 0.006128990814347836, 0.9558216473080512, 0.9715751806410008, 0.12149472579140404, 0.27336313303065907, 0.6074736289570202, 0.9791233846928173, 0.16265419193622652, 0.8132709596811326, 0.0978959788738488, 0.0489479894369244, 0.8321158204277147, 0.18463072559118382, 0.775449047482972, 0.9770008441533777, 0.11167288106653567, 0.8561587548434402, 0.9557279880019952, 0.028961454181878645, 0.9699530870797973, 0.06424803731573572, 0.08719376492849848, 0.7939221754015914, 0.05506974627063062, 0.09401443040415434, 0.04700721520207717, 0.07051082280311576, 0.7756190508342733, 0.10467924917312718, 0.03489308305770906, 0.06978616611541812, 0.7676478272695993, 0.1543691361210898, 0.12349530889687182, 0.0720389301898419, 0.6586416474499831, 0.8853360385895106, 0.9182561730187148, 0.04832927226414288, 0.02416463613207144, 0.898696337922497, 0.9636119521118189, 0.9666732823702413, 0.05024372377820734, 0.7871516725252483, 0.1339832634085529, 0.033495815852138226, 0.9699754915419413, 0.04186728931580008, 0.9629476542634019, 0.9673429775983492, 0.165328579959403, 0.826642899797015, 0.18181855497152996, 0.024793439314299538, 0.09917375725719815, 0.6942163008003871, 0.09771760160699507, 0.09771760160699507, 0.04885880080349753, 0.7817408128559605, 0.9672861933612691, 0.9250739647050293, 0.034261998692778864, 0.5857893206934459, 0.053742139513160175, 0.29558176732238095, 0.04836792556184416, 0.01612264185394805, 0.05402551399607108, 0.7563571959449951, 0.18908929898624877, 0.06026473706257866, 0.06026473706257866, 0.8437063188761013, 0.026667849927939812, 0.9467086724418633, 0.026667849927939812, 0.5485882895866887, 0.2021114751108853, 0.15158360633316398, 0.09383747058719674, 0.9327568512900254, 0.07462054810320203, 0.9515599835902204, 0.9889064839202648, 0.9284735647923439, 0.9268108550604934, 0.94932438378309, 0.0776261323245726, 0.6382593102242636, 0.0258753774415242, 0.043125629069207, 0.215628145346035, 0.953530929238317, 0.018696684887025822, 0.15686397205650499, 0.2654621065571623, 0.012066459388961922, 0.5671235912812103, 0.2456422548185364, 0.727478985424127, 0.00944777903148217, 0.01889555806296434, 0.972009986548671, 0.12666161907677348, 0.06333080953838674, 0.8233005239990275, 0.9615488186255148, 0.025987805908797696, 0.9662542120396851, 0.11983838598986164, 0.8388687019290315, 0.038096306532273486, 0.057144459798410235, 0.19048153266136744, 0.6285890577825125, 0.07619261306454697, 0.28444188141963506, 0.09922391212312852, 0.3968956484925141, 0.0959164483856909, 0.12237615828519184, 0.9318655713989232, 0.9496159032346982, 0.04828555440176432, 0.9715701540193229, 0.05436002124235931, 0.9241203611201082, 0.2613855971653898, 0.058811759362212696, 0.24831631730712028, 0.4312862353228931, 0.3345434421872316, 0.18734432762484968, 0.46836081906212423, 0.1135320812882649, 0.8514906096619869, 0.010050193841931435, 0.8090406042754805, 0.05527606613062289, 0.12562742302414293, 0.8735860752508355, 0.10418916493817304, 0.016029102298180466, 0.7969226538374555, 0.01683639409515751, 0.1403032841263126, 0.01683639409515751, 0.028060656825262518, 0.8135634681914458, 0.12845738971443882, 0.05709217320641725, 0.9088601157871679, 0.05863613650239793, 0.9862450326969331, 0.03108561420395239, 0.07253309980922225, 0.8703971977106669, 0.020723742802634927, 0.01182571782891864, 0.3429458170386405, 0.08278002480243048, 0.5439830201302573, 0.02365143565783728, 0.9640870350822455, 0.024720180386724244, 0.9676132581134443, 0.061386809094463556, 0.1534670227361589, 0.7673351136807944, 0.9827495596585372, 0.10410989890991242, 0.8707373363374493, 0.018929072529074983, 0.07469762607628526, 0.07469762607628526, 0.8216738868391379, 0.8534756753893022, 0.12192509648418604, 0.020320849414031006, 0.019703520713962246, 0.96547251498415, 0.3284858119223443, 0.2219498729205029, 0.07102395933456092, 0.38175378142326494, 0.0641511425950398, 0.010691857099173302, 0.021383714198346605, 0.8981159963305574, 0.9648742846864272, 0.05709029885305457, 0.9134447816488731, 0.9735530159748335, 0.23252448451473676, 0.7626803092083365, 0.9457284144805723, 0.9211384381396414, 0.06140922920930943, 0.9807122292794972, 0.9457931726056654, 0.0764669533881528, 0.1092385048402183, 0.8083649358176154, 0.01092385048402183, 0.968206890359246, 0.020201386329675303, 0.22221524962642833, 0.2676683688681978, 0.3434235676044802, 0.15151039747256478, 0.4797117251175145, 0.08158362672066573, 0.21864411961138414, 0.14032383795954503, 0.08158362672066573, 0.6901508838471435, 0.3112445162447902, 0.20504940033257157, 0.3661596434510207, 0.08787831442824497, 0.3405284684094492, 0.9331133050440933, 0.06220755366960622, 0.9646827249142215, 0.03111879757787811, 0.9715195133875308, 0.9785864560033001, 0.9673118811500623, 0.928883019812104, 0.2769443032388644, 0.059345207836899505, 0.6725790221515278, 0.9673105146627559, 0.2110469962265095, 0.29363060344557845, 0.2569267780148811, 0.1605792362593007, 0.07799562904023177, 0.31283312515060296, 0.08938089290017229, 0.5213885419176716, 0.044690446450086144, 0.033517834837564604, 0.37587265937241726, 0.06834048352225769, 0.47411210443566265, 0.06834048352225769, 0.017085120880564422, 0.843396549938495, 0.043623959479577326, 0.014541319826525775, 0.08724791895915465, 0.012508935716405505, 0.2626876500445156, 0.08756255001483854, 0.6254467858202752, 0.05542121150961877, 0.08313181726442816, 0.027710605754809384, 0.8313181726442815, 0.9175761566094897, 0.07646467971745746, 0.8769022751296108, 0.06189898412679606, 0.03094949206339803, 0.02063299470893202, 0.12015027662293465, 0.030037569155733662, 0.060075138311467324, 0.7809767980490752, 0.08524671344989544, 0.08524671344989544, 0.028415571149965145, 0.7956359921990241, 0.12532559426600234, 0.025065118853200466, 0.7268884467428135, 0.12532559426600234, 0.9124281865520273, 0.9006358792457574, 0.0720508703396606, 0.07479259362041478, 0.7396156480241016, 0.13296461088073738, 0.016620576360092173, 0.033241152720184346, 0.12251457564025973, 0.01166805482288188, 0.8342659198360544, 0.02333610964576376, 0.00583402741144094, 0.01592590872504649, 0.27074044832579036, 0.07962954362523246, 0.6370363490018597, 0.9641528085474503, 0.007573354711440026, 0.8406423729698428, 0.05301348298008018, 0.09845361124872033, 0.9840751550571745, 0.7843593328405669, 0.15466240365870332, 0.011047314547050237, 0.04418925818820095, 0.5901377408928054, 0.010444915768014254, 0.28723518362039197, 0.06266949460808552, 0.04700212095606414, 0.14632255639855926, 0.3365418797166863, 0.49749669175510147, 0.014632255639855925, 0.9268720268939388, 0.9738167686217329, 0.01947633537243466, 0.03618913688755973, 0.054283705331339596, 0.9047284221889933, 0.016337913997711218, 0.9475990118672506, 0.016337913997711218, 0.49629338380688276, 0.4411496744950069, 0.04901663049944521, 0.018381236437291955, 0.623173684688203, 0.008199653745897408, 0.20499134364743518, 0.1065954986966663, 0.05739757622128185, 0.08435262992491928, 0.4097127739210365, 0.03615112711067969, 0.42176314962459643, 0.04820150281423959, 0.5076450818101635, 0.04333555576428226, 0.2662041282663053, 0.14857904833468202, 0.037144762083670506, 0.963613409294549, 0.6729679467566955, 0.008412099334458693, 0.20189038402700862, 0.050472596006752156, 0.06729679467566954, 0.8043651304768971, 0.1787478067726438, 0.005958260225754793, 0.011916520451509587, 0.015573759444403198, 0.4672127833320959, 0.18688511333283836, 0.03893439861100799, 0.28811454972145917, 0.6853187579955459, 0.12320337222391836, 0.10780295069592856, 0.046201264583969386, 0.038501053819974485, 0.9216641317145461, 0.02333326915733028, 0.04666653831466056, 0.01166663457866514, 0.9463350098252604, 0.03785340039301042, 0.8933280768254306, 0.05955520512169537, 0.029777602560847685, 0.031600305801416984, 0.9164088682410926, 0.031600305801416984, 0.4310720089721977, 0.021200262736337593, 0.4593390259539812, 0.08126767382262744, 0.003533377122722932, 0.8573270627683444, 0.14288784379472405, 0.8915990672468885, 0.049533281513716027, 0.9711094662229747, 0.9612811699009859, 0.947569173602206, 0.04407298481870726, 0.04503901371140841, 0.9007802742281681, 0.04503901371140841, 0.8314944485995283, 0.05939246061425202, 0.0989874343570867, 0.030186579178318, 0.08049754447551467, 0.845224216992904, 0.030186579178318, 0.04992157113354106, 0.07131653019077294, 0.5134790173735652, 0.3708459569920193, 0.04126032190406049, 0.12378096571218147, 0.7839461161771493, 0.1705468775426651, 0.15504261594787735, 0.46512784784363204, 0.19638731353397798, 0.010336174396525157, 0.5271464234042352, 0.42982708369883793, 0.03243977990179909, 0.007752355833222583, 0.612436110824584, 0.16279947249767424, 0.03100942333289033, 0.18605653999734198, 0.9206371529561355, 0.07464625564509207, 0.9552194880623689, 0.031245494269590987, 0.9061193338181386, 0.015622747134795494, 0.031245494269590987, 0.9855694515768116, 0.9229998960905682, 0.0717888808070442, 0.1349319751873767, 0.8545691761867191, 0.11454560135227115, 0.12981834819924065, 0.7330918486545354, 0.010181831231312992, 0.01272728903914124, 0.7597472692528925, 0.23701517374128697, 0.20119842754167966, 0.7880271745382453, 0.04914357541948215, 0.8845843575506788, 0.02317666583926995, 0.4264506514425671, 0.4264506514425671, 0.11124799602849576, 0.01390599950356197, 0.14878301423524404, 0.8307051628134459, 0.01239858451960367, 0.01239858451960367, 0.019136457946611958, 0.21050103741273155, 0.1339552056262837, 0.6315031122381947, 0.49048562211653246, 0.00784776995386452, 0.4277034624856163, 0.05101050470011938, 0.02354330986159356, 0.9663057504606773, 0.9538625526127231, 0.14491190687719271, 0.8332434645438581, 0.01811398835964909, 0.07700408974214207, 0.33689289262187155, 0.12513164583098085, 0.10588062339544535, 0.35614391505740706, 0.07402736655385152, 0.9130041874975021, 0.17591675416581568, 0.8041908761865859, 0.2409477770467996, 0.1468275516378935, 0.4442474639300367, 0.12423869753975604, 0.04141289917991868, 0.8980564858907932, 0.01870951012272486, 0.01870951012272486, 0.03741902024544972, 0.9892182418587578, 0.5679563921803652, 0.08414168773042448, 0.16828337546084896, 0.07362397676412141, 0.1051771096630306, 0.023526110547062957, 0.8469399796942665, 0.05881527636765739, 0.05881527636765739, 0.9910664355618176, 0.9124146689882807, 0.9302865219297194, 0.021142875498402713, 0.021142875498402713, 0.059289568147826474, 0.841911867699136, 0.04743165451826118, 0.04743165451826118, 0.1462141275033569, 0.026584386818792168, 0.5848565100134276, 0.2392594813691295, 0.9641653665390163, 0.9730728856465544, 0.013463961318313799, 0.06731980659156898, 0.6900280175635821, 0.18849545845639318, 0.037025893625362946, 0.0827775734866176, 0.827775734866176, 0.272658740602119, 0.23857639802685413, 0.34082342575264873, 0.15337054158869193, 0.8136632596027116, 0.8878548264764055, 0.05222675449861208, 0.047151704740253084, 0.7544272758440493, 0.011787926185063271, 0.10609133566556943, 0.08251548329544289, 0.015912370641915648, 0.7956185320957825, 0.06364948256766259, 0.12729896513532518, 0.8652659625199473, 0.5383777062110534, 0.21708778476252155, 0.09117686960025906, 0.1519614493337651, 0.010460296882017418, 0.8891252349714805, 0.010460296882017418, 0.08368237505613935, 0.899416977237777, 0.008854591673448488, 0.5932576421210487, 0.07969132506103639, 0.15938265012207278, 0.15938265012207278, 0.8639057222027752, 0.08860571509772053, 0.044302857548860264, 0.32867644939762314, 0.4133355348485261, 0.1493983860898287, 0.10955881646587438, 0.05179902752991313, 0.8805834680085233, 0.9459929587657172, 0.04614599798857157, 0.11248769967926617, 0.8717796725143128, 0.9819128675755996, 0.05486354552553289, 0.7406578645946941, 0.10972709105106578, 0.05486354552553289, 0.04114765914414967, 0.9902533534287862, 0.060119945797775826, 0.9017991869666374, 0.10877520505709395, 0.8702016404567516, 0.10742220559687042, 0.8593776447749634, 0.05487497704741401, 0.9054371212823311, 0.027437488523707004, 0.9793676529466843, 0.986789016756468, 0.9641848068416471, 0.03883918704235074, 0.708815163522901, 0.05825878056352611, 0.15535674816940295, 0.04854898380293842, 0.15488227336468074, 0.13939404602821268, 0.0619529093458723, 0.635017320795191, 0.9483276557041724, 0.03469491423307948, 0.05179804583127171, 0.8805667791316191, 0.4963165287193556, 0.018728925612051153, 0.2809338841807673, 0.10300909086628135, 0.09832685946326856, 0.9618152865536393, 0.8218377217140453, 0.16436754434280906, 0.009668679078988768, 0.37320172419620246, 0.017416080462489446, 0.5859267069880378, 0.0037320172419620244, 0.019904091957130797, 0.8659792137868279, 0.05093995375216634, 0.008489992292027723, 0.07640993062824951, 0.9235707754728874, 0.026387736442082498, 0.052775472884164995, 0.054832205450476554, 0.9321474926581014, 0.17474099523299502, 0.04077289888769883, 0.48927478665238605, 0.27376089253169217, 0.0174740995232995, 0.011178414376486333, 0.100605729388377, 0.2571035306591857, 0.5477423044478303, 0.08942731501189066, 0.05840977193948175, 0.3337701253684671, 0.14185230328159854, 0.45893392238164227, 0.13497649940935355, 0.2699529988187071, 0.07362354513237467, 0.5153648159266226, 0.9027195155427031, 0.009824191652680576, 0.427352336891605, 0.21613221635897267, 0.08841772487412518, 0.26034107879603524, 0.41761890807043156, 0.11778994843012172, 0.0642490627800664, 0.3962025538104094, 0.016253622398252326, 0.048760867194756974, 0.07314130079213546, 0.04063405599563081, 0.8208079311117424, 0.8852935947349809, 0.026827078628332758, 0.10730831451333103, 0.9433915034313547, 0.049652184391123934, 0.972893513211207, 0.34535713520245903, 0.4730919660307658, 0.10881115218707613, 0.052040116263384235, 0.014192758980922975, 0.783826927962794, 0.16217108854402634, 0.040542772136006586, 0.013514257378668862, 0.9834906253879754, 0.964224068999161, 0.024410735924029394, 0.9661384095953529, 0.02356435145354519, 0.02356435145354519, 0.07688368242452444, 0.9097902420235392, 0.9636114995952524, 0.008238496669676666, 0.34807648429383914, 0.3068840009454558, 0.014417369171934166, 0.32130137011738996, 0.12191863489722712, 0.2926047237533451, 0.04876745395889085, 0.5333940276753687, 0.05189542921487105, 0.19028324045452719, 0.7611329618181087, 0.049138422795218545, 0.8844916103139339, 0.1116028535539059, 0.013950356694238237, 0.05580142677695295, 0.767269618183103, 0.05580142677695295, 0.014498135375445453, 0.11598508300356362, 0.10148694762811816, 0.768401174898609, 0.014498135375445453, 0.963630767696837, 0.8797293083496193, 0.091638469619752, 0.0183276939239504, 0.7736358830341797, 0.07627396029914447, 0.021792560085469852, 0.14165164055555404, 0.9636158843839904, 0.021028632682852186, 0.7780594092655309, 0.08411453073140875, 0.056076353820939166, 0.06308589804855656, 0.9898668422100132, 0.393496562341329, 0.10416085473741063, 0.503444131230818, 0.08996149283694398, 0.7796662712535145, 0.14993582139490663, 0.4367302916762643, 0.5415455616785677, 0.9612679553793534, 0.9193054150886838, 0.8081720621791847, 0.014303930304056366, 0.10012751212839456, 0.05006375606419728, 0.028607860608112733, 0.0672937803905968, 0.11215630065099466, 0.15701882091139252, 0.672937803905968, 0.12991877088346257, 0.8228188822619296, 0.11164762317537671, 0.8559651110112214, 0.9583503221324904, 0.034226797219017516, 0.9757545118362276, 0.026924671016248555, 0.10769868406499422, 0.8077401304874567, 0.05384934203249711, 0.9803513943478124, 0.047028820252474166, 0.8935475847970091, 0.047028820252474166, 0.11046985259597002, 0.42179398263915824, 0.03682328419865667, 0.4284891252207322, 0.024527681120644067, 0.08175893706881356, 0.3433875356890169, 0.5477848783610508, 0.7725953846320722, 0.24857101529640113, 0.3748293087802874, 0.07891143342742893, 0.07102029008468604, 0.22489758526817247, 0.8829547835330691, 0.08026861668482446, 0.825116823925777, 0.02357476639787934, 0.14144859838727605, 0.01178738319893967, 0.09619443178516042, 0.04809721589258021, 0.8657498860664438, 0.9423156841257173, 0.9666739327377715, 0.033754372259765374, 0.1620209868468738, 0.7628488130706975, 0.033754372259765374, 0.01350174890390615, 0.9232652116403784, 0.06839001567706507, 0.5776901524888854, 0.3011363560846318, 0.03072819960047263, 0.0921845988014179, 0.5202757033546539, 0.09459558242811889, 0.2364889560702972, 0.10551045732367106, 0.04729779121405944, 0.11521171784618994, 0.05236896265735907, 0.7384023734687628, 0.06284275518883088, 0.03142137759441544, 0.7261851345512745, 0.24690294574743332, 0.021785554036538233, 0.08307089190468453, 0.8860895136499684, 0.02769029730156151, 0.9706054409706463, 0.9009669057319356, 0.07207735245855484, 0.01801933811463871, 0.28407116208488575, 0.2257003753551147, 0.16732958862534367, 0.21791760379114522, 0.10506741611358787, 0.1093365688542644, 0.1796243631177201, 0.5388730893531603, 0.14838534344507312, 0.02342926475448523, 0.9744586381020761, 0.9757574902516137, 0.951128158715557, 0.015866157947773636, 0.9202371609708708, 0.06346463179109454, 0.9206462217865268, 0.06137641478576845, 0.06735380081113373, 0.20879678251451458, 0.6533318678679972, 0.06061842073002036, 0.013470760162226746], \"Term\": [\"000\", \"000\", \"000\", \"000\", \"000\", \"1959\", \"1959\", \"1960\", \"1960\", \"1960\", \"1961\", \"1961\", \"1961\", \"1961\", \"1961\", \"30\", \"30\", \"30\", \"30\", \"30\", \"62\", \"academic\", \"act\", \"act\", \"act\", \"act\", \"act\", \"adjustments\", \"adjustments\", \"administration\", \"administration\", \"administration\", \"administration\", \"adopting\", \"agreement\", \"agreement\", \"agreement\", \"aid\", \"aid\", \"aid\", \"aid\", \"aid\", \"aircraft\", \"aircraft\", \"alexander\", \"allocation\", \"allocation\", \"american\", \"american\", \"american\", \"american\", \"american\", \"anne\", \"anti\", \"anti\", \"anti\", \"appearances\", \"areas\", \"areas\", \"areas\", \"areas\", \"areas\", \"art\", \"art\", \"art\", \"art\", \"assessment\", \"assigned\", \"assigned\", \"authorized\", \"authorized\", \"authorized\", \"available\", \"available\", \"available\", \"available\", \"away\", \"away\", \"away\", \"away\", \"baby\", \"bankers\", \"banks\", \"banks\", \"baseball\", \"bed\", \"bed\", \"berlin\", \"berlin\", \"billion\", \"billion\", \"black\", \"black\", \"black\", \"board\", \"board\", \"board\", \"board\", \"board\", \"boats\", \"boats\", \"bombs\", \"bonds\", \"bonds\", \"bride\", \"business\", \"business\", \"business\", \"business\", \"business\", \"calendar\", \"calendar\", \"calendar\", \"came\", \"came\", \"came\", \"came\", \"campus\", \"captain\", \"cars\", \"cars\", \"cars\", \"castro\", \"catholic\", \"catholic\", \"cattle\", \"cattle\", \"cattle\", \"chamber\", \"chamber\", \"charter\", \"chemical\", \"chemical\", \"china\", \"china\", \"chinese\", \"city\", \"city\", \"city\", \"city\", \"claim\", \"claim\", \"claim\", \"claim\", \"claims\", \"claims\", \"claims\", \"claims\", \"class\", \"class\", \"class\", \"class\", \"classical\", \"clay\", \"clay\", \"clay\", \"clerical\", \"cloth\", \"clothes\", \"co\", \"co\", \"co\", \"co\", \"coach\", \"coal\", \"coal\", \"coat\", \"collective\", \"collective\", \"college\", \"college\", \"college\", \"college\", \"colleges\", \"colleges\", \"colleges\", \"colleges\", \"colored\", \"colors\", \"colors\", \"come\", \"come\", \"come\", \"come\", \"come\", \"committee\", \"committee\", \"committee\", \"commodities\", \"commodities\", \"commodities\", \"communist\", \"communist\", \"communist\", \"company\", \"company\", \"company\", \"company\", \"compared\", \"compared\", \"components\", \"congo\", \"connections\", \"conservation\", \"coordination\", \"cost\", \"cost\", \"cost\", \"cost\", \"cost\", \"couldn\", \"couldn\", \"countries\", \"countries\", \"countries\", \"countries\", \"county\", \"county\", \"county\", \"county\", \"cousin\", \"creative\", \"creative\", \"creative\", \"cuba\", \"cuba\", \"cuban\", \"curriculum\", \"curriculum\", \"daily\", \"daily\", \"daily\", \"daily\", \"daily\", \"day\", \"day\", \"day\", \"day\", \"day\", \"definition\", \"democratic\", \"democratic\", \"democrats\", \"denied\", \"denied\", \"department\", \"department\", \"department\", \"department\", \"design\", \"design\", \"design\", \"designer\", \"designer\", \"development\", \"development\", \"development\", \"development\", \"didn\", \"didn\", \"didn\", \"don\", \"don\", \"don\", \"don\", \"don\", \"door\", \"door\", \"door\", \"drill\", \"drill\", \"dry\", \"east\", \"east\", \"east\", \"east\", \"education\", \"education\", \"education\", \"education\", \"education\", \"eisenhower\", \"eisenhower\", \"electronic\", \"engineer\", \"engineer\", \"engineer\", \"entrance\", \"equipment\", \"equipment\", \"equipment\", \"exercise\", \"exercise\", \"exercise\", \"eyes\", \"eyes\", \"eyes\", \"faculty\", \"faculty\", \"federal\", \"federal\", \"federal\", \"federal\", \"feed\", \"feed\", \"feed\", \"feed\", \"fig\", \"filing\", \"filing\", \"fingers\", \"fiscal\", \"fiscal\", \"flowers\", \"forests\", \"forests\", \"frames\", \"fulfill\", \"game\", \"game\", \"game\", \"game\", \"gen\", \"general\", \"general\", \"general\", \"general\", \"general\", \"good\", \"good\", \"good\", \"good\", \"good\", \"got\", \"got\", \"government\", \"government\", \"government\", \"government\", \"guests\", \"guests\", \"hadn\", \"hadn\", \"hair\", \"ham\", \"handsome\", \"hated\", \"hearing\", \"hearing\", \"hearing\", \"hell\", \"high\", \"high\", \"high\", \"high\", \"high\", \"home\", \"home\", \"home\", \"home\", \"home\", \"house\", \"house\", \"house\", \"house\", \"house\", \"inch\", \"inch\", \"inch\", \"inch\", \"income\", \"income\", \"income\", \"income\", \"india\", \"india\", \"india\", \"india\", \"industrial\", \"industrial\", \"industry\", \"industry\", \"industry\", \"industry\", \"insurance\", \"insurance\", \"insurance\", \"insurance\", \"interference\", \"interference\", \"interference\", \"interference\", \"interior\", \"interior\", \"interior\", \"interior\", \"inventories\", \"investment\", \"investment\", \"island\", \"island\", \"island\", \"island\", \"island\", \"john\", \"john\", \"john\", \"john\", \"john\", \"junior\", \"junior\", \"junior\", \"junior\", \"katanga\", \"kennedy\", \"kennedy\", \"kennedy\", \"kennedy\", \"khrushchev\", \"knew\", \"knew\", \"knew\", \"knew\", \"know\", \"know\", \"know\", \"know\", \"know\", \"labor\", \"labor\", \"labor\", \"labor\", \"laboratory\", \"laos\", \"laos\", \"leaders\", \"leaders\", \"leaders\", \"league\", \"league\", \"league\", \"left\", \"left\", \"left\", \"left\", \"let\", \"let\", \"let\", \"let\", \"let\", \"level\", \"level\", \"level\", \"level\", \"level\", \"life\", \"life\", \"life\", \"life\", \"life\", \"liked\", \"little\", \"little\", \"little\", \"little\", \"little\", \"ll\", \"ll\", \"ll\", \"ll\", \"local\", \"local\", \"local\", \"local\", \"local\", \"look\", \"look\", \"look\", \"look\", \"look\", \"looked\", \"looked\", \"looked\", \"looked\", \"machine\", \"machine\", \"machinery\", \"machinery\", \"machinery\", \"machines\", \"machines\", \"machines\", \"man\", \"man\", \"man\", \"man\", \"man\", \"manufacturers\", \"manufacturers\", \"manufacturing\", \"manufacturing\", \"marketing\", \"mathematics\", \"mayor\", \"mayor\", \"meat\", \"meat\", \"meat\", \"medical\", \"medical\", \"medical\", \"meeting\", \"meeting\", \"meeting\", \"meeting\", \"members\", \"members\", \"members\", \"members\", \"membership\", \"membership\", \"membership\", \"men\", \"men\", \"men\", \"men\", \"men\", \"military\", \"military\", \"military\", \"million\", \"million\", \"million\", \"million\", \"million\", \"missile\", \"missile\", \"missiles\", \"monday\", \"monday\", \"monday\", \"monday\", \"moscow\", \"mother\", \"mother\", \"motors\", \"motors\", \"mr\", \"mr\", \"mr\", \"mr\", \"mr\", \"mrs\", \"mrs\", \"music\", \"music\", \"musical\", \"musical\", \"national\", \"national\", \"national\", \"national\", \"national\", \"nations\", \"nations\", \"nations\", \"nations\", \"officer\", \"officer\", \"officer\", \"officer\", \"old\", \"old\", \"old\", \"old\", \"old\", \"opposition\", \"pale\", \"party\", \"party\", \"party\", \"pay\", \"pay\", \"pay\", \"pay\", \"pay\", \"payment\", \"payment\", \"payments\", \"payments\", \"people\", \"people\", \"people\", \"people\", \"people\", \"pieces\", \"pieces\", \"pieces\", \"pieces\", \"pink\", \"place\", \"place\", \"place\", \"place\", \"place\", \"planning\", \"planning\", \"planning\", \"planning\", \"player\", \"polaris\", \"police\", \"police\", \"police\", \"political\", \"political\", \"political\", \"political\", \"pool\", \"pool\", \"pool\", \"pool\", \"pope\", \"premier\", \"president\", \"president\", \"president\", \"president\", \"president\", \"prestige\", \"prestige\", \"problem\", \"problem\", \"problem\", \"problem\", \"proceedings\", \"procurement\", \"procurement\", \"production\", \"production\", \"production\", \"production\", \"production\", \"products\", \"products\", \"products\", \"products\", \"professors\", \"program\", \"program\", \"program\", \"program\", \"property\", \"property\", \"property\", \"property\", \"prosperity\", \"provide\", \"provide\", \"provide\", \"provide\", \"provide\", \"providence\", \"providence\", \"providence\", \"public\", \"public\", \"public\", \"public\", \"puerto\", \"puerto\", \"race\", \"race\", \"radiation\", \"radiation\", \"railroad\", \"range\", \"range\", \"range\", \"range\", \"range\", \"rayburn\", \"recognition\", \"recognition\", \"recommendation\", \"recommendation\", \"recorded\", \"recorded\", \"recreation\", \"recreation\", \"recreation\", \"rehabilitation\", \"republican\", \"republicans\", \"research\", \"research\", \"research\", \"research\", \"research\", \"return\", \"return\", \"return\", \"return\", \"rhode\", \"rhode\", \"rico\", \"rico\", \"right\", \"right\", \"right\", \"right\", \"right\", \"robinson\", \"room\", \"room\", \"room\", \"said\", \"said\", \"said\", \"said\", \"said\", \"sales\", \"sales\", \"sales\", \"sales\", \"sat\", \"sat\", \"sat\", \"savings\", \"savings\", \"school\", \"school\", \"school\", \"school\", \"school\", \"schools\", \"schools\", \"schools\", \"schools\", \"schools\", \"secretary\", \"secretary\", \"secretary\", \"secretary\", \"section\", \"section\", \"section\", \"section\", \"sectors\", \"service\", \"service\", \"service\", \"service\", \"service\", \"services\", \"services\", \"services\", \"services\", \"shall\", \"shall\", \"shall\", \"shall\", \"shall\", \"shares\", \"shares\", \"shares\", \"shelter\", \"shelter\", \"shipments\", \"small\", \"small\", \"small\", \"small\", \"small\", \"son\", \"son\", \"son\", \"son\", \"southern\", \"soviet\", \"soviet\", \"speaker\", \"speaker\", \"speaker\", \"st\", \"st\", \"stared\", \"state\", \"state\", \"state\", \"state\", \"state\", \"states\", \"states\", \"states\", \"states\", \"stations\", \"stations\", \"stations\", \"stockholders\", \"stockholders\", \"student\", \"student\", \"student\", \"student\", \"student\", \"students\", \"students\", \"students\", \"students\", \"students\", \"studio\", \"sun\", \"sun\", \"sun\", \"sure\", \"sure\", \"sure\", \"sure\", \"sweet\", \"system\", \"system\", \"system\", \"system\", \"system\", \"systems\", \"tax\", \"tax\", \"tax\", \"teachers\", \"teachers\", \"teachers\", \"technical\", \"technical\", \"tends\", \"thereof\", \"thought\", \"thought\", \"thought\", \"thought\", \"thought\", \"title\", \"title\", \"title\", \"title\", \"tractor\", \"tractor\", \"treasury\", \"treasury\", \"trees\", \"trees\", \"troops\", \"trust\", \"trust\", \"trust\", \"trust\", \"trustees\", \"unions\", \"unions\", \"unions\", \"united\", \"united\", \"united\", \"united\", \"university\", \"university\", \"university\", \"university\", \"upstairs\", \"use\", \"use\", \"use\", \"use\", \"use\", \"utility\", \"utility\", \"ve\", \"ve\", \"ve\", \"ve\", \"vehicles\", \"vehicles\", \"vehicles\", \"vocational\", \"walls\", \"war\", \"war\", \"war\", \"war\", \"war\", \"wasn\", \"wasn\", \"water\", \"water\", \"water\", \"water\", \"way\", \"way\", \"way\", \"way\", \"way\", \"week\", \"week\", \"week\", \"week\", \"week\", \"went\", \"went\", \"went\", \"west\", \"west\", \"west\", \"windows\", \"woman\", \"woman\", \"woman\", \"work\", \"work\", \"work\", \"work\", \"work\", \"world\", \"world\", \"world\", \"world\", \"world\", \"yankees\", \"yards\", \"yellow\", \"yesterday\", \"yesterday\", \"yesterday\", \"yield\", \"yield\", \"york\", \"york\", \"york\", \"york\", \"york\"]}, \"R\": 30, \"lambda.step\": 0.01, \"plot.opts\": {\"xlab\": \"PC1\", \"ylab\": \"PC2\"}, \"topic.order\": [1, 2, 3, 4, 5]};\n",
       "\n",
       "function LDAvis_load_lib(url, callback){\n",
       "  var s = document.createElement('script');\n",
       "  s.src = url;\n",
       "  s.async = true;\n",
       "  s.onreadystatechange = s.onload = callback;\n",
       "  s.onerror = function(){console.warn(\"failed to load library \" + url);};\n",
       "  document.getElementsByTagName(\"head\")[0].appendChild(s);\n",
       "}\n",
       "\n",
       "if(typeof(LDAvis) !== \"undefined\"){\n",
       "   // already loaded: just create the visualization\n",
       "   !function(LDAvis){\n",
       "       new LDAvis(\"#\" + \"ldavis_el5570130750464487733079242\", ldavis_el5570130750464487733079242_data);\n",
       "   }(LDAvis);\n",
       "}else if(typeof define === \"function\" && define.amd){\n",
       "   // require.js is available: use it to load d3/LDAvis\n",
       "   require.config({paths: {d3: \"https://d3js.org/d3.v5\"}});\n",
       "   require([\"d3\"], function(d3){\n",
       "      window.d3 = d3;\n",
       "      LDAvis_load_lib(\"https://cdn.jsdelivr.net/gh/bmabey/pyLDAvis@3.4.0/pyLDAvis/js/ldavis.v3.0.0.js\", function(){\n",
       "        new LDAvis(\"#\" + \"ldavis_el5570130750464487733079242\", ldavis_el5570130750464487733079242_data);\n",
       "      });\n",
       "    });\n",
       "}else{\n",
       "    // require.js not available: dynamically load d3 & LDAvis\n",
       "    LDAvis_load_lib(\"https://d3js.org/d3.v5.js\", function(){\n",
       "         LDAvis_load_lib(\"https://cdn.jsdelivr.net/gh/bmabey/pyLDAvis@3.4.0/pyLDAvis/js/ldavis.v3.0.0.js\", function(){\n",
       "                 new LDAvis(\"#\" + \"ldavis_el5570130750464487733079242\", ldavis_el5570130750464487733079242_data);\n",
       "            })\n",
       "         });\n",
       "}\n",
       "</script>"
      ],
      "text/plain": [
       "<IPython.core.display.HTML object>"
      ]
     },
     "execution_count": 24,
     "metadata": {},
     "output_type": "execute_result"
    }
   ],
   "source": [
    "pyLDAvis.display(lda_display)"
   ]
  },
  {
   "cell_type": "markdown",
   "id": "a3d14c87",
   "metadata": {},
   "source": [
    "Q: What conclusions do you draw from the visualization above? Please address the principal component scatterplot and the salient terms graph.\n",
    "\n",
    "A: Topics 2 and 4 appear to be the most similar given their spacing on the PC scatterplot, however none of the Topics appear to have any overlap, which is surprising given the number of relatively even classification given on some topics. Topic 3 appears to be the largest topic encompassing the most documents. Topics 2 and 5 appear to the most dissimilar from Topic 1 given their distance. From the salient terms graph, the probability of some words across topics does provide a general set of words, however when sliding the slider towards zero the distinctiveness of those words show a more immediate and significant indication of which Topic the document belongs do. This is expected as focusing on the distinct set of words inherently finds the most separate groups of words relative to the others within the corpus. Most significantly, Topic 1 appears to be the most general, which imply romance and hobbies. Topic 2 and 4 appear to be most associated with technology and industry. Topic 3 is particularly distinct on historical topics that are likely associated with the Cold War era. Finally, Topic 5 appears to generally have more distinct usage of financial and economic terms.\n"
   ]
  }
 ],
 "metadata": {
  "kernelspec": {
   "display_name": "Python 3 (ipykernel)",
   "language": "python",
   "name": "python3"
  },
  "language_info": {
   "codemirror_mode": {
    "name": "ipython",
    "version": 3
   },
   "file_extension": ".py",
   "mimetype": "text/x-python",
   "name": "python",
   "nbconvert_exporter": "python",
   "pygments_lexer": "ipython3",
   "version": "3.11.5"
  }
 },
 "nbformat": 4,
 "nbformat_minor": 5
}
